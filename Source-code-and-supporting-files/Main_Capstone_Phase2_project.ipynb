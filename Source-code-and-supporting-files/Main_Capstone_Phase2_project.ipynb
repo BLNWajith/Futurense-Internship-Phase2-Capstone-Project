{
 "cells": [
  {
   "cell_type": "code",
   "execution_count": 1,
   "metadata": {},
   "outputs": [],
   "source": [
    "\n",
    "import pandas as pd\n",
    "from sklearn.impute import KNNImputer\n",
    "from scipy.stats import zscore\n",
    "from imblearn.over_sampling import SMOTE\n",
    "import matplotlib.pyplot as plt\n",
    "from scipy.stats import chi2_contingency\n",
    "from scipy.stats import linregress\n",
    "import seaborn as sns\n",
    "import sqlite3\n",
    "from sqlite3 import IntegrityError\n",
    "from concurrent.futures import ThreadPoolExecutor\n",
    "from sklearn.model_selection import cross_val_score\n",
    "from sklearn.linear_model import LinearRegression\n",
    "from sklearn.metrics import mean_squared_error\n",
    "from sklearn.ensemble import IsolationForest\n",
    "from sklearn.preprocessing import StandardScaler\n",
    "from sklearn.decomposition import PCA\n",
    "from sklearn.ensemble import RandomForestRegressor\n",
    "from sklearn.feature_selection import SelectFromModel\n",
    "from sklearn.preprocessing import MinMaxScaler\n",
    "import logging\n",
    "import time\n",
    "from concurrent.futures import ThreadPoolExecutor\n",
    "import plotly.express as px\n",
    "import plotly.graph_objects as go\n",
    "import pandas as pd\n",
    "from concurrent.futures import ThreadPoolExecutor\n",
    "import logging\n",
    "import datapane as dp\n",
    "import altair as alt"
   ]
  },
  {
   "cell_type": "markdown",
   "metadata": {},
   "source": [
    "# Problem Statement 1 : Data Cleaning and Augmentation"
   ]
  },
  {
   "cell_type": "code",
   "execution_count": null,
   "metadata": {},
   "outputs": [],
   "source": [
    "\"\"\"-   Problem Statement 1:   Identify and handle missing values using advanced imputation techniques. Correct anomalies by identifying outliers using statistical methods and domain knowledge. Standardize data formats and ensure consistency across the dataset. Augment the dataset by generating synthetic data using data augmentation techniques and collecting additional data from public sports databases. Integrate this data into a unified dataset.\n",
    "   -   Additional Complexity:   Implement data validation scripts to automate the data cleaning process.\n",
    "\"\"\""
   ]
  },
  {
   "cell_type": "code",
   "execution_count": 3,
   "metadata": {},
   "outputs": [
    {
     "name": "stderr",
     "output_type": "stream",
     "text": [
      "C:\\Users\\Wajith Ali\\AppData\\Local\\Temp\\ipykernel_12724\\1592436003.py:9: FutureWarning: In a future version, `df.iloc[:, i] = newvals` will attempt to set the values inplace instead of always setting a new array. To retain the old behavior, use either `df[df.columns[i]] = newvals` or, if columns are non-unique, `df.isetitem(i, newvals)`\n",
      "  data.loc[:, ['Age', 'Height', 'Weight']] = imputer.fit_transform(impute_data)\n"
     ]
    }
   ],
   "source": [
    "data = pd.read_csv('Sports dataset.csv')\n",
    "impute_data = data[['Age', 'Height', 'Weight']].copy()\n",
    "imputer = KNNImputer(n_neighbors=5)\n",
    "data.loc[:, ['Age', 'Height', 'Weight']] = imputer.fit_transform(impute_data)\n",
    "data.dropna(inplace=True)"
   ]
  },
  {
   "cell_type": "code",
   "execution_count": 4,
   "metadata": {},
   "outputs": [],
   "source": [
    "float_cols = ['Height', 'Weight', 'Position', 'Goals', 'Assists', 'YellowCards', 'RedCards', \n",
    "              'PassCompletionRate', 'DistanceCovered', 'Sprints', 'ShotsOnTarget', 'TacklesWon', \n",
    "              'CleanSheets', 'PlayerFatigue', 'MatchPressure', 'InjuryHistory', 'TrainingHours', \n",
    "              'FatigueInjuryCorrelation', 'PressurePerformanceImpact', 'EffectiveTraining']\n",
    "data[float_cols] = data[float_cols].round(2)"
   ]
  },
  {
   "cell_type": "code",
   "execution_count": 5,
   "metadata": {},
   "outputs": [],
   "source": [
    "if 'Unnamed: 0' in data.columns:\n",
    "    data.rename(columns={'Unnamed: 0': 'PU_ID'}, inplace=True)\n",
    "data.drop_duplicates(inplace=True)"
   ]
  },
  {
   "cell_type": "code",
   "execution_count": 6,
   "metadata": {},
   "outputs": [],
   "source": [
    "data['Height_z'] = zscore(data['Height'])\n",
    "data = data[data['Height_z'].abs() <= 3]  \n",
    "data = data.drop(columns=['Height_z'])\n",
    "impute_data = data[['Age', 'Height', 'Weight']].copy()\n",
    "n_neighbors = min(5, len(impute_data) - 1)  # Ensure n_neighbors <= n_samples - 1\n",
    "if n_neighbors <= 0:\n",
    "    raise ValueError(\"Not enough samples in the dataset to perform imputation.\")\n",
    "imputer = KNNImputer(n_neighbors=n_neighbors)\n",
    "data.loc[:, ['Age', 'Height', 'Weight']] = imputer.fit_transform(impute_data)\n",
    "data.dropna(inplace=True)"
   ]
  },
  {
   "cell_type": "code",
   "execution_count": 7,
   "metadata": {},
   "outputs": [
    {
     "name": "stdout",
     "output_type": "stream",
     "text": [
      "Data validation errors:\n",
      " - Height values out of expected range (150cm to 210cm).\n",
      " - Weight values out of expected range (50kg to 150kg).\n",
      "Cleaned data saved.\n"
     ]
    }
   ],
   "source": [
    "errors = []\n",
    "numeric_cols = ['Height', 'Weight', 'Goals', 'Assists', 'YellowCards', 'RedCards', \n",
    "                'PassCompletionRate', 'DistanceCovered', 'Sprints', 'ShotsOnTarget', \n",
    "                'TacklesWon', 'CleanSheets', 'PlayerFatigue', 'MatchPressure', \n",
    "                'InjuryHistory', 'TrainingHours', 'FatigueInjuryCorrelation', \n",
    "                'PressurePerformanceImpact', 'EffectiveTraining']\n",
    "\n",
    "if (data[numeric_cols] < 0).any().any():\n",
    "    errors.append(\"Negative values found in numeric columns where they are not allowed.\")\n",
    "if not data['Height'].between(150, 210).all():\n",
    "    errors.append(\"Height values out of expected range (150cm to 210cm).\")\n",
    "if not data['Weight'].between(50, 150).all():\n",
    "    errors.append(\"Weight values out of expected range (50kg to 150kg).\")\n",
    "if errors:\n",
    "    print(\"Data validation errors:\")\n",
    "    for error in errors:\n",
    "        print(f\" - {error}\")\n",
    "else:\n",
    "    print(\"No validation errors found.\")\n",
    "\n",
    "data.to_csv('cleaned_sports_dataset.csv', index=False)\n",
    "print(\"Cleaned data saved.\")"
   ]
  },
  {
   "cell_type": "markdown",
   "metadata": {},
   "source": [
    "# Problem Satement 2 : Position Analysis"
   ]
  },
  {
   "cell_type": "code",
   "execution_count": null,
   "metadata": {},
   "outputs": [],
   "source": [
    "\"\"\"-   Problem Statement 2:   Analyze player positions to identify the highest and lowest number of players. Use statistical analysis to determine if the distribution of players across positions is significantly different from a uniform distribution. Create a plot showing the count of players for each position and a pie chart for distribution.\n",
    "   -   Additional Complexity:   Perform a chi-square test to validate your findings.\n",
    "\"\"\""
   ]
  },
  {
   "cell_type": "code",
   "execution_count": 13,
   "metadata": {},
   "outputs": [
    {
     "name": "stdout",
     "output_type": "stream",
     "text": [
      "Highest number of players: Goalkeeper with 2119 players\n",
      "Lowest number of players: Midfielder with 1867 players\n"
     ]
    }
   ],
   "source": [
    "data = pd.read_csv('cleaned_sports_dataset.csv')\n",
    "position_counts = data['Position'].value_counts()\n",
    "highest_position = position_counts.idxmax()\n",
    "lowest_position = position_counts.idxmin()\n",
    "\n",
    "print(f\"Highest number of players: {highest_position} with {position_counts.max()} players\")\n",
    "print(f\"Lowest number of players: {lowest_position} with {position_counts.min()} players\")"
   ]
  },
  {
   "cell_type": "code",
   "execution_count": 10,
   "metadata": {},
   "outputs": [
    {
     "name": "stdout",
     "output_type": "stream",
     "text": [
      "Chi-square statistic: 8.34812147020631\n",
      "P-value: 0.03933917072098861\n"
     ]
    }
   ],
   "source": [
    "observed = position_counts.values\n",
    "expected = [len(data) / len(position_counts)] * len(position_counts)  # Uniform distribution\n",
    "chi2, p, _, _ = chi2_contingency([observed, expected])\n",
    "print(f\"Chi-square statistic: {chi2}\")\n",
    "print(f\"P-value: {p}\")"
   ]
  },
  {
   "cell_type": "code",
   "execution_count": 12,
   "metadata": {},
   "outputs": [
    {
     "data": {
      "image/png": "[encoded data removed]",
      "text/plain": [
       "<Figure size 1440x864 with 1 Axes>"
      ]
     },
     "metadata": {
      "needs_background": "light"
     },
     "output_type": "display_data"
    },
    {
     "data": {
      "image/png": "[encoded data removed]",
      "text/plain": [
       "<Figure size 864x864 with 1 Axes>"
      ]
     },
     "metadata": {},
     "output_type": "display_data"
    }
   ],
   "source": [
    "plt.figure(figsize=(20, 12))\n",
    "sns.barplot(x=position_counts.index, y=position_counts.values, palette=\"viridis\")\n",
    "plt.xlabel('Position')\n",
    "plt.ylabel('Number of Players')\n",
    "plt.title('Count of Players by Position')\n",
    "plt.ylim(1500, 2500)\n",
    "plt.xticks(rotation=45)\n",
    "plt.show()\n",
    "\n",
    "plt.figure(figsize=(12, 12), facecolor='white')\n",
    "plt.pie(position_counts, labels=position_counts.index, autopct='%1.1f%%', colors=sns.color_palette(\"viridis\", len(position_counts)))\n",
    "plt.title('Distribution of Players by Position')\n",
    "plt.show()\n",
    "\n"
   ]
  },
  {
   "cell_type": "markdown",
   "metadata": {},
   "source": [
    "# Problem Statement 3: Data Ingestion Strategies"
   ]
  },
  {
   "cell_type": "code",
   "execution_count": null,
   "metadata": {},
   "outputs": [],
   "source": [
    "\"\"\"Problem Statement 3:   Design and implement a data ingestion pipeline that supports incremental data loading. Optimize storage by using data partitioning and indexing strategies. Implement logging and monitoring to track the performance and reliability of the ingestion process. Utilize Python, pandas, and SQL for implementation.\n",
    "   -   Additional Complexity:   Use parallel processing to enhance the data ingestion performance.\n",
    "\"\"\""
   ]
  },
  {
   "cell_type": "code",
   "execution_count": 15,
   "metadata": {},
   "outputs": [],
   "source": [
    "cleaned_data = data.drop_duplicates()"
   ]
  },
  {
   "cell_type": "code",
   "execution_count": 21,
   "metadata": {},
   "outputs": [
    {
     "name": "stdout",
     "output_type": "stream",
     "text": [
      "Schema-specific CSV files saved.\n"
     ]
    }
   ],
   "source": [
    "data = pd.read_csv('cleaned_sports_dataset.csv')\n",
    "cleaned_data = data.drop_duplicates()\n",
    "player_details_data = cleaned_data[['PU_ID', 'Age', 'Height', 'Weight']].drop_duplicates()\n",
    "player_performance_data = cleaned_data[['PU_ID', 'Team', 'Season', 'Goals', 'Assists', 'YellowCards', 'RedCards',\n",
    "                                        'PassCompletionRate', 'DistanceCovered', 'Sprints', 'ShotsOnTarget',\n",
    "                                        'TacklesWon', 'CleanSheets']].drop_duplicates(subset=['PU_ID'])\n",
    "health_data = cleaned_data[['PU_ID', 'Season', 'PlayerFatigue', 'MatchPressure', 'InjuryHistory']].drop_duplicates()\n",
    "training_data = cleaned_data[['PU_ID', 'Season', 'TrainingHours', 'FatigueInjuryCorrelation', 'PressurePerformanceImpact', 'EffectiveTraining']].drop_duplicates()\n",
    "\n",
    "player_details_data.to_csv('player_details.csv', index=False)\n",
    "player_performance_data.to_csv('player_performance.csv', index=False)\n",
    "health_data.to_csv('health.csv', index=False)\n",
    "training_data.to_csv('training.csv', index=False)\n",
    "\n",
    "print(\"Schema-specific CSV files saved.\")"
   ]
  },
  {
   "cell_type": "code",
   "execution_count": 22,
   "metadata": {},
   "outputs": [
    {
     "name": "stdout",
     "output_type": "stream",
     "text": [
      "Data insertion into SQLite completed.\n"
     ]
    }
   ],
   "source": [
    "conn = sqlite3.connect('football.db')\n",
    "\n",
    "player_detail_schema = \"\"\"\n",
    "CREATE TABLE IF NOT EXISTS PlayerDetail (\n",
    "    PU_ID INTEGER PRIMARY KEY,\n",
    "    Age INTEGER,\n",
    "    Height REAL,\n",
    "    Weight REAL\n",
    ");\n",
    "\"\"\"\n",
    "\n",
    "player_performance_schema = \"\"\"\n",
    "CREATE TABLE IF NOT EXISTS PlayerPerformance (\n",
    "    PU_ID INTEGER PRIMARY KEY,\n",
    "    Team TEXT,\n",
    "    Season INTEGER,\n",
    "    Goals INTEGER,\n",
    "    Assists INTEGER,\n",
    "    YellowCards INTEGER,\n",
    "    RedCards INTEGER,\n",
    "    PassCompletionRate REAL,\n",
    "    DistanceCovered REAL,\n",
    "    Sprints INTEGER,\n",
    "    ShotsOnTarget INTEGER,\n",
    "    TacklesWon INTEGER,\n",
    "    CleanSheets INTEGER,\n",
    "    FOREIGN KEY (PU_ID) REFERENCES PlayerDetail(PU_ID)\n",
    ");\n",
    "\"\"\"\n",
    "\n",
    "health_schema = \"\"\"\n",
    "CREATE TABLE IF NOT EXISTS Health (\n",
    "    PU_ID INTEGER,\n",
    "    Season INTEGER,\n",
    "    PlayerFatigue REAL,\n",
    "    MatchPressure REAL,\n",
    "    InjuryHistory REAL,\n",
    "    FOREIGN KEY (PU_ID) REFERENCES PlayerDetail(PU_ID)\n",
    ");\n",
    "\"\"\"\n",
    "\n",
    "training_schema = \"\"\"\n",
    "CREATE TABLE IF NOT EXISTS Training (\n",
    "    PU_ID INTEGER,\n",
    "    Season INTEGER,\n",
    "    TrainingHours REAL,\n",
    "    FatigueInjuryCorrelation REAL,\n",
    "    PressurePerformanceImpact REAL,\n",
    "    EffectiveTraining REAL,\n",
    "    FOREIGN KEY (PU_ID) REFERENCES PlayerDetail(PU_ID)\n",
    ");\n",
    "\"\"\"\n",
    "\n",
    "conn.execute(player_detail_schema)\n",
    "conn.execute(player_performance_schema)\n",
    "conn.execute(health_schema)\n",
    "conn.execute(training_schema)\n",
    "conn.commit()\n",
    "\n",
    "player_details_data = pd.read_csv('player_details.csv')\n",
    "player_performance_data = pd.read_csv('player_performance.csv')\n",
    "health_data = pd.read_csv('health.csv')\n",
    "training_data = pd.read_csv('training.csv')\n",
    "\n",
    "def insert_data_into_table(table_name, data):\n",
    "    conn = sqlite3.connect('football.db')\n",
    "    try:\n",
    "        data.to_sql(table_name, conn, if_exists='append', index=False)\n",
    "    except IntegrityError:\n",
    "        pass\n",
    "    finally:\n",
    "        conn.commit()\n",
    "        conn.close()\n",
    "from concurrent.futures import ThreadPoolExecutor\n",
    "\n",
    "with ThreadPoolExecutor() as executor:\n",
    "    futures = []\n",
    "    futures.append(executor.submit(insert_data_into_table, 'PlayerDetail', player_details_data))\n",
    "    futures.append(executor.submit(insert_data_into_table, 'PlayerPerformance', player_performance_data))\n",
    "    futures.append(executor.submit(insert_data_into_table, 'Health', health_data))\n",
    "    futures.append(executor.submit(insert_data_into_table, 'Training', training_data))\n",
    "\n",
    "    for future in futures:\n",
    "        future.result()\n",
    "\n",
    "print(\"Data insertion into SQLite completed.\")\n"
   ]
  },
  {
   "cell_type": "code",
   "execution_count": 36,
   "metadata": {},
   "outputs": [
    {
     "name": "stdout",
     "output_type": "stream",
     "text": [
      "MySQL script created: football.sql\n"
     ]
    }
   ],
   "source": [
    "player_details_data = pd.read_csv('player_details.csv')\n",
    "player_performance_data = pd.read_csv('player_performance.csv')\n",
    "health_data = pd.read_csv('health.csv')\n",
    "training_data = pd.read_csv('training.csv')\n",
    "\n",
    "sql_script = \"\"\"-- MySQL dump 10.13  Distrib 8.0.19, for osx10.14 (x86_64)\n",
    "--\n",
    "-- Host: 127.0.0.1    Database: football\n",
    "-- ------------------------------------------------------\n",
    "-- Server version\t8.0.19-debug\n",
    "\n",
    "/*!40101 SET @OLD_CHARACTER_SET_CLIENT=@@CHARACTER_SET_CLIENT */;\n",
    "/*!40101 SET @OLD_CHARACTER_SET_RESULTS=@@CHARACTER_SET_RESULTS */;\n",
    "/*!40101 SET @OLD_COLLATION_CONNECTION=@@COLLATION_CONNECTION */;\n",
    "/*!50503 SET NAMES utf8mb4 */;\n",
    "/*!40103 SET @OLD_TIME_ZONE=@@TIME_ZONE */;\n",
    "/*!40103 SET TIME_ZONE='+00:00' */;\n",
    "/*!40014 SET @OLD_UNIQUE_CHECKS=@@UNIQUE_CHECKS, UNIQUE_CHECKS=0 */;\n",
    "/*!40014 SET @OLD_FOREIGN_KEY_CHECKS=@@FOREIGN_KEY_CHECKS, FOREIGN_KEY_CHECKS=0 */;\n",
    "/*!40101 SET @OLD_SQL_MODE=@@SQL_MODE, SQL_MODE='NO_AUTO_VALUE_ON_ZERO' */;\n",
    "/*!40111 SET @OLD_SQL_NOTES=@@SQL_NOTES, SQL_NOTES=0 */;\n",
    "SET @old_autocommit=@@autocommit;\n",
    "\n",
    "--\n",
    "-- Create new Database: `football`\n",
    "--\n",
    "CREATE DATABASE IF NOT EXISTS `football` DEFAULT CHARACTER SET utf8mb4;\n",
    "USE `football`;\n",
    "\n",
    "\"\"\"\n",
    "\n",
    "def generate_sql(table_name, df):\n",
    "    non_numeric_cols = df.select_dtypes(include=['object']).columns.tolist()\n",
    "    numeric_cols = df.select_dtypes(include=['int64', 'float64']).columns.tolist()\n",
    "    sql_script = f\"DROP TABLE IF EXISTS {table_name};\\n\"\n",
    "    sql_script += f\"CREATE TABLE {table_name} (\\n\"\n",
    "    for column in non_numeric_cols:\n",
    "        sql_script += f\"    {column} TEXT,\\n\"\n",
    "    for column in numeric_cols:\n",
    "        sql_script += f\"    {column} REAL,\\n\"\n",
    "    sql_script = sql_script.rstrip(',\\n') + \"\\n);\\n\"\n",
    "    for _, row in df.iterrows():\n",
    "        insert_statement = f\"INSERT INTO {table_name} VALUES (\"\n",
    "        for value in row.values:\n",
    "            if isinstance(value, str):\n",
    "                insert_statement += f\"'{value}', \"\n",
    "            else:\n",
    "                insert_statement += f\"{value}, \"\n",
    "        insert_statement = insert_statement.rstrip(', ') + \");\\n\"\n",
    "        sql_script += insert_statement\n",
    "\n",
    "    return sql_script\n",
    "\n",
    "sql_script += generate_sql('player_details', player_details_data)\n",
    "sql_script += generate_sql('player_performance', player_performance_data)\n",
    "sql_script += generate_sql('health', health_data)\n",
    "sql_script += generate_sql('training', training_data)\n",
    "\n",
    "with open('football.sql', 'w') as f:\n",
    "    f.write(sql_script)\n",
    "\n",
    "print(\"MySQL script created: football.sql\")\n"
   ]
  },
  {
   "cell_type": "code",
   "execution_count": 37,
   "metadata": {},
   "outputs": [
    {
     "name": "stdout",
     "output_type": "stream",
     "text": [
      "Data insertion with logging completed.\n"
     ]
    }
   ],
   "source": [
    "logging.basicConfig(filename='data_ingestion.log', level=logging.INFO, \n",
    "                    format='%(asctime)s:%(levelname)s:%(message)s')\n",
    "\n",
    "def insert_data_into_table_with_logging(table_name, data):\n",
    "    conn = sqlite3.connect('football.db')\n",
    "    start_time = time.time()\n",
    "    try:\n",
    "        data.to_sql(table_name, conn, if_exists='append', index=False)\n",
    "        logging.info(f\"Inserted data into {table_name} successfully.\")\n",
    "    except IntegrityError as e:\n",
    "        logging.error(f\"Error inserting data into {table_name}: {e}\")\n",
    "    finally:\n",
    "        conn.commit()\n",
    "        conn.close()\n",
    "    end_time = time.time()\n",
    "    logging.info(f\"Time taken to insert data into {table_name}: {end_time - start_time} seconds.\")\n",
    "\n",
    "with ThreadPoolExecutor() as executor:\n",
    "    futures = []\n",
    "    futures.append(executor.submit(insert_data_into_table_with_logging, 'PlayerDetail', player_details_data))\n",
    "    futures.append(executor.submit(insert_data_into_table_with_logging, 'PlayerPerformance', player_performance_data))\n",
    "    futures.append(executor.submit(insert_data_into_table_with_logging, 'Health', health_data))\n",
    "    futures.append(executor.submit(insert_data_into_table_with_logging, 'Training', training_data))\n",
    "    for future in futures:\n",
    "        future.result()\n",
    "\n",
    "print(\"Data insertion with logging completed.\")"
   ]
  },
  {
   "cell_type": "markdown",
   "metadata": {},
   "source": [
    "## later basis using workbench"
   ]
  },
  {
   "cell_type": "code",
   "execution_count": null,
   "metadata": {},
   "outputs": [],
   "source": [
    "logging.basicConfig(level=logging.INFO, format='%(asctime)s - %(levelname)s - %(message)s')\n",
    "conn = mysql.connector.connect(\n",
    "    host='127.0.0.1',\n",
    "    user='wajith',\n",
    "    password='1234',\n",
    "    database='football'\n",
    ")\n",
    "cursor = conn.cursor()\n",
    "player_details_data = pd.read_csv('player_details.csv')\n",
    "player_performance_data = pd.read_csv('player_performance.csv')\n",
    "health_data = pd.read_csv('health.csv')\n",
    "training_data = pd.read_csv('training.csv')\n",
    "\n",
    "def insert_data_into_table(table_name, data):\n",
    "    try:\n",
    "        data.to_sql(table_name, conn, if_exists='append', index=False)\n",
    "        logging.info(f\"Data inserted into {table_name}\")\n",
    "    except Exception as e:\n",
    "        logging.error(f\"Error inserting data into {table_name}: {e}\")\n",
    "    finally:\n",
    "        conn.commit()\n",
    "with ThreadPoolExecutor() as executor:\n",
    "    futures = []\n",
    "    futures.append(executor.submit(insert_data_into_table, 'player_details', player_details_data))\n",
    "    futures.append(executor.submit(insert_data_into_table, 'player_performance', player_performance_data))\n",
    "    futures.append(executor.submit(insert_data_into_table, 'health', health_data))\n",
    "    futures.append(executor.submit(insert_data_into_table, 'training', training_data))\n",
    "\n",
    "    for future in futures:\n",
    "        future.result()\n",
    "\n",
    "logging.info(\"Data insertion into MySQL completed.\")\n",
    "conn.close()"
   ]
  },
  {
   "cell_type": "code",
   "execution_count": null,
   "metadata": {},
   "outputs": [],
   "source": [
    "import mysql.connector\n",
    "from concurrent.futures import ThreadPoolExecutor\n",
    "import logging\n",
    "\n",
    "logging.basicConfig(level=logging.INFO, format='%(asctime)s - %(levelname)s - %(message)s')\n",
    "conn = mysql.connector.connect(\n",
    "    host='127.0.0.1',\n",
    "    user='wajith',\n",
    "    password='1234',\n",
    "    database='football'\n",
    ")\n",
    "cursor = conn.cursor()\n",
    "player_details_data = pd.read_csv('player_details.csv')\n",
    "player_performance_data = pd.read_csv('player_performance.csv')\n",
    "health_data = pd.read_csv('health.csv')\n",
    "training_data = pd.read_csv('training.csv')\n",
    "\n",
    "def get_last_update_time(table_name):\n",
    "    cursor.execute(f\"SELECT MAX(last_updated) FROM {table_name}\")\n",
    "    return cursor.fetchone()[0]\n",
    "\n",
    "def filter_new_data(data, last_update_time):\n",
    "    if last_update_time:\n",
    "        data['last_updated'] = pd.to_datetime(data['last_updated'])\n",
    "        return data[data['last_updated'] > last_update_time]\n",
    "    return data\n",
    "\n",
    "def insert_data_into_table(table_name, data):\n",
    "    try:\n",
    "        last_update_time = get_last_update_time(table_name)\n",
    "        new_data = filter_new_data(data, last_update_time)\n",
    "        new_data.to_sql(table_name, conn, if_exists='append', index=False)\n",
    "        logging.info(f\"Data inserted into {table_name}\")\n",
    "    except Exception as e:\n",
    "        logging.error(f\"Error inserting data into {table_name}: {e}\")\n",
    "    finally:\n",
    "        conn.commit()\n",
    "with ThreadPoolExecutor() as executor:\n",
    "    futures = []\n",
    "    futures.append(executor.submit(insert_data_into_table, 'player_details', player_details_data))\n",
    "    futures.append(executor.submit(insert_data_into_table, 'player_performance', player_performance_data))\n",
    "    futures.append(executor.submit(insert_data_into_table, 'health', health_data))\n",
    "    futures.append(executor.submit(insert_data_into_table, 'training', training_data))\n",
    "\n",
    "    for future in futures:\n",
    "        future.result()\n",
    "\n",
    "logging.info(\"Incremental data insertion into MySQL completed.\")\n",
    "conn.close()\n"
   ]
  },
  {
   "cell_type": "markdown",
   "metadata": {},
   "source": [
    "# Problem Statement 4 : Pass Completion Rate vs. Assists"
   ]
  },
  {
   "cell_type": "code",
   "execution_count": null,
   "metadata": {},
   "outputs": [],
   "source": [
    "\"\"\"-   Problem Statement 4:   Analyze the relationship between pass completion rate and assists. Create a scatter plot and identify outliers using advanced outlier detection methods like DB-SCAN or Isolation Forest. Plot a line of best fit and use regression analysis to model the relationship. Evaluate the model using appropriate metrics.\n",
    "   -   Additional Complexity:   Implement cross-validation to ensure the robustness of your regression model.\"\"\""
   ]
  },
  {
   "cell_type": "code",
   "execution_count": 40,
   "metadata": {},
   "outputs": [
    {
     "name": "stderr",
     "output_type": "stream",
     "text": [
      "C:\\Users\\Wajith Ali\\AppData\\Local\\Temp\\ipykernel_12724\\3286464311.py:7: SettingWithCopyWarning: \n",
      "A value is trying to be set on a copy of a slice from a DataFrame\n",
      "\n",
      "See the caveats in the documentation: https://pandas.pydata.org/pandas-docs/stable/user_guide/indexing.html#returning-a-view-versus-a-copy\n",
      "  data.dropna(inplace=True)\n"
     ]
    }
   ],
   "source": [
    "df_data = pd.read_csv('cleaned_sports_dataset.csv')\n",
    "data = df_data[['PassCompletionRate', 'Assists']]\n",
    "data.dropna(inplace=True)\n",
    "X = data[['PassCompletionRate']]\n",
    "y = data['Assists']"
   ]
  },
  {
   "cell_type": "code",
   "execution_count": 41,
   "metadata": {},
   "outputs": [
    {
     "name": "stdout",
     "output_type": "stream",
     "text": [
      "Cross-validation Scores (Mean Squared Error):\n",
      "[31.96986952 34.04686811 32.74138756 34.65139173 33.36466282]\n"
     ]
    }
   ],
   "source": [
    "model = LinearRegression()\n",
    "cv_scores = cross_val_score(model, X, y, cv=5, scoring='neg_mean_squared_error')\n",
    "mse_scores = -cv_scores\n",
    "print(\"Cross-validation Scores (Mean Squared Error):\")\n",
    "print(mse_scores)"
   ]
  },
  {
   "cell_type": "code",
   "execution_count": 42,
   "metadata": {},
   "outputs": [
    {
     "name": "stdout",
     "output_type": "stream",
     "text": [
      "\n",
      "Mean Squared Error on Entire Dataset: 33.32690943809759\n"
     ]
    }
   ],
   "source": [
    "model.fit(X, y)\n",
    "from sklearn.metrics import mean_squared_error\n",
    "y_pred = model.predict(X)\n",
    "mse = mean_squared_error(y, y_pred)\n",
    "print(\"\\nMean Squared Error on Entire Dataset:\", mse)"
   ]
  },
  {
   "cell_type": "code",
   "execution_count": 43,
   "metadata": {},
   "outputs": [
    {
     "data": {
      "image/png": "[encoded data removed]",
      "text/plain": [
       "<Figure size 1440x864 with 1 Axes>"
      ]
     },
     "metadata": {
      "needs_background": "light"
     },
     "output_type": "display_data"
    }
   ],
   "source": [
    "import matplotlib.pyplot as plt\n",
    "plt.figure(figsize=(20, 12))\n",
    "plt.scatter(df_data['PassCompletionRate'], df_data['Assists'], color='blue', alpha=0.5)\n",
    "plt.title('Pass Completion Rate vs Assists')\n",
    "plt.xlabel('Pass Completion Rate')\n",
    "plt.ylabel('Assists')\n",
    "plt.grid(True)\n",
    "plt.show()"
   ]
  },
  {
   "cell_type": "code",
   "execution_count": 45,
   "metadata": {},
   "outputs": [
    {
     "name": "stderr",
     "output_type": "stream",
     "text": [
      "C:\\Users\\Wajith Ali\\AppData\\Local\\Temp\\ipykernel_12724\\299066692.py:6: SettingWithCopyWarning: \n",
      "A value is trying to be set on a copy of a slice from a DataFrame.\n",
      "Try using .loc[row_indexer,col_indexer] = value instead\n",
      "\n",
      "See the caveats in the documentation: https://pandas.pydata.org/pandas-docs/stable/user_guide/indexing.html#returning-a-view-versus-a-copy\n",
      "  data['Outlier'] = outliers\n"
     ]
    },
    {
     "data": {
      "image/png": "[encoded data removed]",
      "text/plain": [
       "<Figure size 1440x864 with 1 Axes>"
      ]
     },
     "metadata": {
      "needs_background": "light"
     },
     "output_type": "display_data"
    }
   ],
   "source": [
    "iso_forest = IsolationForest(contamination=0.05)\n",
    "outliers = iso_forest.fit_predict(data)\n",
    "data['Outlier'] = outliers\n",
    "plt.figure(figsize=(20, 12))\n",
    "plt.scatter(data[data['Outlier'] == 1]['PassCompletionRate'], data[data['Outlier'] == 1]['Assists'], color='blue', alpha=0.5, label='Inliers')\n",
    "plt.scatter(data[data['Outlier'] == -1]['PassCompletionRate'], data[data['Outlier'] == -1]['Assists'], color='red', alpha=0.5, label='Outliers')\n",
    "plt.title('Outlier Detection: Pass Completion Rate vs Assists')\n",
    "plt.xlabel('Pass Completion Rate')\n",
    "plt.ylabel('Assists')\n",
    "plt.legend()\n",
    "plt.grid(True)\n",
    "plt.show()"
   ]
  },
  {
   "cell_type": "code",
   "execution_count": 46,
   "metadata": {},
   "outputs": [
    {
     "data": {
      "image/png": "[encoded data removed]",
      "text/plain": [
       "<Figure size 1440x864 with 1 Axes>"
      ]
     },
     "metadata": {
      "needs_background": "light"
     },
     "output_type": "display_data"
    }
   ],
   "source": [
    "slope, intercept, r_value, p_value, std_err = linregress(data['PassCompletionRate'], data['Assists'])\n",
    "regression_line = intercept + slope * data['PassCompletionRate']\n",
    "plt.figure(figsize=(20, 12))\n",
    "plt.scatter(data['PassCompletionRate'], data['Assists'], color='blue', alpha=0.5)\n",
    "plt.plot(data['PassCompletionRate'], regression_line, color='red', label='Regression Line')\n",
    "plt.title('Pass Completion Rate vs Assists')\n",
    "plt.xlabel('Pass Completion Rate')\n",
    "plt.ylabel('Assists')\n",
    "plt.legend()\n",
    "plt.grid(True)\n",
    "plt.show()"
   ]
  },
  {
   "cell_type": "markdown",
   "metadata": {},
   "source": [
    "# Problem Statement 5 : Advanced Data Transformations"
   ]
  },
  {
   "cell_type": "code",
   "execution_count": null,
   "metadata": {},
   "outputs": [],
   "source": [
    "\"\"\"Problem Statement 5:   Perform complex transformations on the dataset, including feature engineering to create new meaningful features. Implement additional strategies for data optimization, such as data normalization and dimensionality reduction.\n",
    "   -   Additional Complexity:   Use machine learning techniques for feature selection and extraction.\n",
    "\"\"\""
   ]
  },
  {
   "cell_type": "code",
   "execution_count": 50,
   "metadata": {},
   "outputs": [
    {
     "name": "stdout",
     "output_type": "stream",
     "text": [
      "Data after feature engineering:\n",
      "   GoalsPerGame  AssistsPerGame  CardsPerGame\n",
      "0      0.005440        0.000989      0.003462\n",
      "1      0.000991        0.007925      0.004953\n",
      "2      0.006436        0.000495      0.002970\n",
      "3      0.002967        0.003956      0.001484\n",
      "4      0.012871        0.001485      0.002970\n"
     ]
    }
   ],
   "source": [
    "data = pd.read_csv('cleaned_sports_dataset.csv')\n",
    "data['GoalsPerGame'] = data['Goals'] / data['Season']\n",
    "data['AssistsPerGame'] = data['Assists'] / data['Season']\n",
    "data['CardsPerGame'] = (data['YellowCards'] + data['RedCards']) / data['Season']\n",
    "data.dropna(subset=['GoalsPerGame', 'AssistsPerGame', 'CardsPerGame'], inplace=True)\n",
    "print(\"Data after feature engineering:\")\n",
    "print(data[['GoalsPerGame', 'AssistsPerGame', 'CardsPerGame']].head())"
   ]
  },
  {
   "cell_type": "code",
   "execution_count": 51,
   "metadata": {},
   "outputs": [
    {
     "name": "stdout",
     "output_type": "stream",
     "text": [
      "Normalized Data Head:\n",
      "      Height    Weight  PassCompletionRate  DistanceCovered   Sprints  \\\n",
      "0  0.040757  0.078336            0.451986            0.588  0.424242   \n",
      "1  0.043183  0.029587            0.375536            0.065  0.171717   \n",
      "2  0.238040  0.004896            0.710632            0.352  0.585859   \n",
      "3  0.311790  0.151671            0.020292            0.224  0.616162   \n",
      "4  0.192431  0.077178            0.463275            0.921  0.808081   \n",
      "\n",
      "   ShotsOnTarget  TacklesWon  CleanSheets  GoalsPerGame  AssistsPerGame  \\\n",
      "0       0.285714    0.758621     0.666667      0.004068        0.105107   \n",
      "1       0.428571    0.931034     0.666667      0.000741        0.842105   \n",
      "2       0.357143    0.103448     0.444444      0.004812        0.052606   \n",
      "3       0.214286    0.413793     0.888889      0.002219        0.420428   \n",
      "4       0.857143    0.655172     0.222222      0.009625        0.157817   \n",
      "\n",
      "   CardsPerGame  \n",
      "0      0.537663  \n",
      "1      0.769231  \n",
      "2      0.461310  \n",
      "3      0.230427  \n",
      "4      0.461310  \n"
     ]
    }
   ],
   "source": [
    "features_to_normalize = ['Height', 'Weight', 'PassCompletionRate', 'DistanceCovered', 'Sprints', 'ShotsOnTarget', \n",
    "                         'TacklesWon', 'CleanSheets', 'GoalsPerGame', 'AssistsPerGame', 'CardsPerGame']\n",
    "scaler = MinMaxScaler()\n",
    "data[features_to_normalize] = scaler.fit_transform(data[features_to_normalize])\n",
    "print(\"Normalized Data Head:\\n\", data[features_to_normalize].head())"
   ]
  },
  {
   "cell_type": "code",
   "execution_count": 53,
   "metadata": {},
   "outputs": [
    {
     "name": "stdout",
     "output_type": "stream",
     "text": [
      "Explained Variance Ratio:\n",
      " [0.14814302 0.14149964 0.13556437 0.12501172 0.11991217 0.11302768\n",
      " 0.08251073 0.07715049 0.02857514 0.02642718 0.00217786]\n",
      "Cumulative Variance:\n",
      " [0.14814302 0.28964266 0.42520703 0.55021876 0.67013093 0.7831586\n",
      " 0.86566933 0.94281982 0.97139496 0.99782214 1.        ]\n"
     ]
    },
    {
     "data": {
      "image/png": "[encoded data removed]",
      "text/plain": [
       "<Figure size 720x432 with 1 Axes>"
      ]
     },
     "metadata": {
      "needs_background": "light"
     },
     "output_type": "display_data"
    }
   ],
   "source": [
    "pca = PCA(n_components=None) \n",
    "pca_features = pca.fit_transform(data[features_to_normalize])\n",
    "pca_df = pd.DataFrame(pca_features, columns=[f'PC{i+1}' for i in range(pca_features.shape[1])])\n",
    "explained_variance_ratio = pca.explained_variance_ratio_\n",
    "cumulative_variance = explained_variance_ratio.cumsum()\n",
    "print(\"Explained Variance Ratio:\\n\", explained_variance_ratio)\n",
    "print(\"Cumulative Variance:\\n\", cumulative_variance)\n",
    "plt.figure(figsize=(10, 6))\n",
    "plt.plot(range(1, len(cumulative_variance) + 1), cumulative_variance, marker='o', linestyle='--')\n",
    "plt.title('Cumulative Variance Explained by PCA Components')\n",
    "plt.xlabel('Number of Components')\n",
    "plt.ylabel('Cumulative Variance')\n",
    "plt.grid(True)\n",
    "plt.show()"
   ]
  },
  {
   "cell_type": "code",
   "execution_count": 54,
   "metadata": {},
   "outputs": [
    {
     "name": "stdout",
     "output_type": "stream",
     "text": [
      "Selected PCA Components Head:\n",
      "         PC1       PC2       PC3       PC4       PC5\n",
      "0 -0.135385 -0.235847  0.139408  0.316257 -0.330634\n",
      "1 -0.154602 -0.045339 -0.546545  0.459846  0.301918\n",
      "2  0.128613 -0.266760  0.574399 -0.024947  0.109265\n",
      "3 -0.340084 -0.317884  0.129920  0.092162  0.260071\n",
      "4  0.273917  0.352941  0.290083 -0.108162 -0.521549\n"
     ]
    }
   ],
   "source": [
    "n_components_to_retain = 5  \n",
    "pca = PCA(n_components=n_components_to_retain)\n",
    "pca_features = pca.fit_transform(data[features_to_normalize])\n",
    "pca_df = pd.DataFrame(pca_features, columns=[f'PC{i+1}' for i in range(n_components_to_retain)])\n",
    "print(\"Selected PCA Components Head:\\n\", pca_df.head())"
   ]
  },
  {
   "cell_type": "code",
   "execution_count": 55,
   "metadata": {},
   "outputs": [
    {
     "name": "stdout",
     "output_type": "stream",
     "text": [
      "Data saved to CSV files.\n"
     ]
    }
   ],
   "source": [
    "data.to_csv('normalized_data.csv', index=False)\n",
    "pca_df.to_csv('selected_pca_data.csv', index=False)\n",
    "print(\"Data saved to CSV files.\")"
   ]
  },
  {
   "cell_type": "code",
   "execution_count": 56,
   "metadata": {},
   "outputs": [
    {
     "name": "stdout",
     "output_type": "stream",
     "text": [
      "SQL script saved to 'transformed_football.sql'.\n"
     ]
    }
   ],
   "source": [
    "sql_script = \"\"\"-- MySQL dump 10.13  Distrib 8.0.19, for osx10.14 (x86_64)\n",
    "--\n",
    "-- Host: 127.0.0.1    Database: transformed_football\n",
    "-- ------------------------------------------------------\n",
    "-- Server version\t8.0.19-debug\n",
    "\n",
    "/*!40101 SET @OLD_CHARACTER_SET_CLIENT=@@CHARACTER_SET_CLIENT */;\n",
    "/*!40101 SET @OLD_CHARACTER_SET_RESULTS=@@CHARACTER_SET_RESULTS */;\n",
    "/*!40101 SET @OLD_COLLATION_CONNECTION=@@COLLATION_CONNECTION */;\n",
    "/*!50503 SET NAMES utf8mb4 */;\n",
    "/*!40103 SET @OLD_TIME_ZONE=@@TIME_ZONE */;\n",
    "/*!40103 SET TIME_ZONE='+00:00' */;\n",
    "/*!40014 SET @OLD_UNIQUE_CHECKS=@@UNIQUE_CHECKS, UNIQUE_CHECKS=0 */;\n",
    "/*!40014 SET @OLD_FOREIGN_KEY_CHECKS=@@FOREIGN_KEY_CHECKS, FOREIGN_KEY_CHECKS=0 */;\n",
    "/*!40101 SET @OLD_SQL_MODE=@@SQL_MODE, SQL_MODE='NO_AUTO_VALUE_ON_ZERO' */;\n",
    "/*!40111 SET @OLD_SQL_NOTES=@@SQL_NOTES, SQL_NOTES=0 */;\n",
    "SET @old_autocommit=@@autocommit;\n",
    "\n",
    "--\n",
    "-- Create new Database: `transformed_football`\n",
    "--\n",
    "CREATE DATABASE IF NOT EXISTS `transformed_football` DEFAULT CHARACTER SET utf8mb4;\n",
    "USE `transformed_football`;\n",
    "\n",
    "--\n",
    "-- Table structure for table `normalized_data`\n",
    "--\n",
    "CREATE TABLE normalized_data (\n",
    "    Height REAL,\n",
    "    Weight REAL,\n",
    "    PassCompletionRate REAL,\n",
    "    DistanceCovered REAL,\n",
    "    Sprints REAL,\n",
    "    ShotsOnTarget REAL,\n",
    "    TacklesWon REAL,\n",
    "    CleanSheets REAL,\n",
    "    GoalsPerGame REAL,\n",
    "    AssistsPerGame REAL,\n",
    "    CardsPerGame REAL\n",
    ");\n",
    "\n",
    "--\n",
    "-- Table structure for table `selected_pca_data`\n",
    "--\n",
    "CREATE TABLE selected_pca_data (\n",
    "    PC1 REAL,\n",
    "    PC2 REAL,\n",
    "    PC3 REAL,\n",
    "    PC4 REAL,\n",
    "    PC5 REAL\n",
    ");\n",
    "\n",
    "\"\"\"\n",
    "\n",
    "normalized_data = pd.read_csv('normalized_data.csv')\n",
    "insert_statement = f\"INSERT INTO normalized_data VALUES\\n\"\n",
    "for _, row in normalized_data.iterrows():\n",
    "    row_values = [f\"{value}\" for value in row.values]\n",
    "    insert_statement += f\"    ({', '.join(row_values)}),\\n\"\n",
    "insert_statement = insert_statement.rstrip(',\\n') + \";\\n\\n\"\n",
    "sql_script += insert_statement\n",
    "selected_pca_data = pd.read_csv('selected_pca_data.csv')\n",
    "insert_statement = f\"INSERT INTO selected_pca_data VALUES\\n\"\n",
    "for _, row in selected_pca_data.iterrows():\n",
    "    row_values = [f\"{value}\" for value in row.values]\n",
    "    insert_statement += f\"    ({', '.join(row_values)}),\\n\"\n",
    "insert_statement = insert_statement.rstrip(',\\n') + \";\\n\\n\"\n",
    "sql_script += insert_statement\n",
    "with open('transformed_football.sql', 'w') as f:\n",
    "    f.write(sql_script)\n",
    "\n",
    "print(\"SQL script saved to 'transformed_football.sql'.\")"
   ]
  },
  {
   "cell_type": "markdown",
   "metadata": {},
   "source": [
    "# Problem Statement 6 : Data Warehousing"
   ]
  },
  {
   "cell_type": "code",
   "execution_count": null,
   "metadata": {},
   "outputs": [],
   "source": [
    "\"\"\"-   Problem Statement 6:   Design and implement a data warehouse schema using advanced SQL features like window functions and CTEs (Common Table Expressions). Store the transformed data efficiently and ensure it supports complex analytical queries. Implement data security and access control mechanisms.\n",
    "   -   Additional Complexity:   Optimize the data warehouse for performance using techniques like indexing, partitioning, and materialized views.\n",
    "\"\"\""
   ]
  },
  {
   "cell_type": "code",
   "execution_count": 60,
   "metadata": {},
   "outputs": [],
   "source": [
    "# sql"
   ]
  },
  {
   "cell_type": "markdown",
   "metadata": {},
   "source": [
    "# Problem Statement 7 : Team Goals Analysis"
   ]
  },
  {
   "cell_type": "code",
   "execution_count": null,
   "metadata": {},
   "outputs": [],
   "source": [
    "\"\"\"-   Problem Statement 7:   Identify the team with the highest number of goals. Create a horizontal bar plot and a stacked bar chart. Perform a time series analysis to understand trends in goal scoring over the season. Identify the top goal scorer in that team and analyze their performance metrics over time.\n",
    "   -   Additional Complexity:   Use advanced visualization tools like Plotly or D3.js for interactive visualizations.\"\"\""
   ]
  },
  {
   "cell_type": "code",
   "execution_count": 64,
   "metadata": {},
   "outputs": [
    {
     "name": "stdout",
     "output_type": "stream",
     "text": [
      "Team with the highest number of goals: Team B\n"
     ]
    }
   ],
   "source": [
    "data = pd.read_csv('cleaned_sports_dataset.csv')\n",
    "team_goals = data.groupby('Team')['Goals'].sum()\n",
    "team_with_highest_goals = team_goals.idxmax()\n",
    "print(f\"Team with the highest number of goals: {team_with_highest_goals}\")"
   ]
  },
  {
   "cell_type": "code",
   "execution_count": 68,
   "metadata": {},
   "outputs": [
    {
     "data": {
      "application/vnd.plotly.v1+json": {
       "config": {
        "plotlyServerURL": "https://plot.ly"
       },
       "data": [
        {
         "alignmentgroup": "True",
         "hovertemplate": "Goals=%{x}<br>Team=%{y}<extra></extra>",
         "legendgroup": "",
         "marker": {
          "color": "#636efa",
          "pattern": {
           "shape": ""
          }
         },
         "name": "",
         "offsetgroup": "",
         "orientation": "h",
         "showlegend": false,
         "textposition": "auto",
         "type": "bar",
         "x": [
          97477,
          106661,
          97898
         ],
         "xaxis": "x",
         "y": [
          "Team A",
          "Team B",
          "Team C"
         ],
         "yaxis": "y"
        }
       ],
       "layout": {
        "barmode": "relative",
        "legend": {
         "tracegroupgap": 0
        },
        "template": {
         "data": {
          "bar": [
           {
            "error_x": {
             "color": "#2a3f5f"
            },
            "error_y": {
             "color": "#2a3f5f"
            },
            "marker": {
             "line": {
              "color": "#E5ECF6",
              "width": 0.5
             },
             "pattern": {
              "fillmode": "overlay",
              "size": 10,
              "solidity": 0.2
             }
            },
            "type": "bar"
           }
          ],
          "barpolar": [
           {
            "marker": {
             "line": {
              "color": "#E5ECF6",
              "width": 0.5
             },
             "pattern": {
              "fillmode": "overlay",
              "size": 10,
              "solidity": 0.2
             }
            },
            "type": "barpolar"
           }
          ],
          "carpet": [
           {
            "aaxis": {
             "endlinecolor": "#2a3f5f",
             "gridcolor": "white",
             "linecolor": "white",
             "minorgridcolor": "white",
             "startlinecolor": "#2a3f5f"
            },
            "baxis": {
             "endlinecolor": "#2a3f5f",
             "gridcolor": "white",
             "linecolor": "white",
             "minorgridcolor": "white",
             "startlinecolor": "#2a3f5f"
            },
            "type": "carpet"
           }
          ],
          "choropleth": [
           {
            "colorbar": {
             "outlinewidth": 0,
             "ticks": ""
            },
            "type": "choropleth"
           }
          ],
          "contour": [
           {
            "colorbar": {
             "outlinewidth": 0,
             "ticks": ""
            },
            "colorscale": [
             [
              0,
              "#0d0887"
             ],
             [
              0.1111111111111111,
              "#46039f"
             ],
             [
              0.2222222222222222,
              "#7201a8"
             ],
             [
              0.3333333333333333,
              "#9c179e"
             ],
             [
              0.4444444444444444,
              "#bd3786"
             ],
             [
              0.5555555555555556,
              "#d8576b"
             ],
             [
              0.6666666666666666,
              "#ed7953"
             ],
             [
              0.7777777777777778,
              "#fb9f3a"
             ],
             [
              0.8888888888888888,
              "#fdca26"
             ],
             [
              1,
              "#f0f921"
             ]
            ],
            "type": "contour"
           }
          ],
          "contourcarpet": [
           {
            "colorbar": {
             "outlinewidth": 0,
             "ticks": ""
            },
            "type": "contourcarpet"
           }
          ],
          "heatmap": [
           {
            "colorbar": {
             "outlinewidth": 0,
             "ticks": ""
            },
            "colorscale": [
             [
              0,
              "#0d0887"
             ],
             [
              0.1111111111111111,
              "#46039f"
             ],
             [
              0.2222222222222222,
              "#7201a8"
             ],
             [
              0.3333333333333333,
              "#9c179e"
             ],
             [
              0.4444444444444444,
              "#bd3786"
             ],
             [
              0.5555555555555556,
              "#d8576b"
             ],
             [
              0.6666666666666666,
              "#ed7953"
             ],
             [
              0.7777777777777778,
              "#fb9f3a"
             ],
             [
              0.8888888888888888,
              "#fdca26"
             ],
             [
              1,
              "#f0f921"
             ]
            ],
            "type": "heatmap"
           }
          ],
          "heatmapgl": [
           {
            "colorbar": {
             "outlinewidth": 0,
             "ticks": ""
            },
            "colorscale": [
             [
              0,
              "#0d0887"
             ],
             [
              0.1111111111111111,
              "#46039f"
             ],
             [
              0.2222222222222222,
              "#7201a8"
             ],
             [
              0.3333333333333333,
              "#9c179e"
             ],
             [
              0.4444444444444444,
              "#bd3786"
             ],
             [
              0.5555555555555556,
              "#d8576b"
             ],
             [
              0.6666666666666666,
              "#ed7953"
             ],
             [
              0.7777777777777778,
              "#fb9f3a"
             ],
             [
              0.8888888888888888,
              "#fdca26"
             ],
             [
              1,
              "#f0f921"
             ]
            ],
            "type": "heatmapgl"
           }
          ],
          "histogram": [
           {
            "marker": {
             "pattern": {
              "fillmode": "overlay",
              "size": 10,
              "solidity": 0.2
             }
            },
            "type": "histogram"
           }
          ],
          "histogram2d": [
           {
            "colorbar": {
             "outlinewidth": 0,
             "ticks": ""
            },
            "colorscale": [
             [
              0,
              "#0d0887"
             ],
             [
              0.1111111111111111,
              "#46039f"
             ],
             [
              0.2222222222222222,
              "#7201a8"
             ],
             [
              0.3333333333333333,
              "#9c179e"
             ],
             [
              0.4444444444444444,
              "#bd3786"
             ],
             [
              0.5555555555555556,
              "#d8576b"
             ],
             [
              0.6666666666666666,
              "#ed7953"
             ],
             [
              0.7777777777777778,
              "#fb9f3a"
             ],
             [
              0.8888888888888888,
              "#fdca26"
             ],
             [
              1,
              "#f0f921"
             ]
            ],
            "type": "histogram2d"
           }
          ],
          "histogram2dcontour": [
           {
            "colorbar": {
             "outlinewidth": 0,
             "ticks": ""
            },
            "colorscale": [
             [
              0,
              "#0d0887"
             ],
             [
              0.1111111111111111,
              "#46039f"
             ],
             [
              0.2222222222222222,
              "#7201a8"
             ],
             [
              0.3333333333333333,
              "#9c179e"
             ],
             [
              0.4444444444444444,
              "#bd3786"
             ],
             [
              0.5555555555555556,
              "#d8576b"
             ],
             [
              0.6666666666666666,
              "#ed7953"
             ],
             [
              0.7777777777777778,
              "#fb9f3a"
             ],
             [
              0.8888888888888888,
              "#fdca26"
             ],
             [
              1,
              "#f0f921"
             ]
            ],
            "type": "histogram2dcontour"
           }
          ],
          "mesh3d": [
           {
            "colorbar": {
             "outlinewidth": 0,
             "ticks": ""
            },
            "type": "mesh3d"
           }
          ],
          "parcoords": [
           {
            "line": {
             "colorbar": {
              "outlinewidth": 0,
              "ticks": ""
             }
            },
            "type": "parcoords"
           }
          ],
          "pie": [
           {
            "automargin": true,
            "type": "pie"
           }
          ],
          "scatter": [
           {
            "fillpattern": {
             "fillmode": "overlay",
             "size": 10,
             "solidity": 0.2
            },
            "type": "scatter"
           }
          ],
          "scatter3d": [
           {
            "line": {
             "colorbar": {
              "outlinewidth": 0,
              "ticks": ""
             }
            },
            "marker": {
             "colorbar": {
              "outlinewidth": 0,
              "ticks": ""
             }
            },
            "type": "scatter3d"
           }
          ],
          "scattercarpet": [
           {
            "marker": {
             "colorbar": {
              "outlinewidth": 0,
              "ticks": ""
             }
            },
            "type": "scattercarpet"
           }
          ],
          "scattergeo": [
           {
            "marker": {
             "colorbar": {
              "outlinewidth": 0,
              "ticks": ""
             }
            },
            "type": "scattergeo"
           }
          ],
          "scattergl": [
           {
            "marker": {
             "colorbar": {
              "outlinewidth": 0,
              "ticks": ""
             }
            },
            "type": "scattergl"
           }
          ],
          "scattermapbox": [
           {
            "marker": {
             "colorbar": {
              "outlinewidth": 0,
              "ticks": ""
             }
            },
            "type": "scattermapbox"
           }
          ],
          "scatterpolar": [
           {
            "marker": {
             "colorbar": {
              "outlinewidth": 0,
              "ticks": ""
             }
            },
            "type": "scatterpolar"
           }
          ],
          "scatterpolargl": [
           {
            "marker": {
             "colorbar": {
              "outlinewidth": 0,
              "ticks": ""
             }
            },
            "type": "scatterpolargl"
           }
          ],
          "scatterternary": [
           {
            "marker": {
             "colorbar": {
              "outlinewidth": 0,
              "ticks": ""
             }
            },
            "type": "scatterternary"
           }
          ],
          "surface": [
           {
            "colorbar": {
             "outlinewidth": 0,
             "ticks": ""
            },
            "colorscale": [
             [
              0,
              "#0d0887"
             ],
             [
              0.1111111111111111,
              "#46039f"
             ],
             [
              0.2222222222222222,
              "#7201a8"
             ],
             [
              0.3333333333333333,
              "#9c179e"
             ],
             [
              0.4444444444444444,
              "#bd3786"
             ],
             [
              0.5555555555555556,
              "#d8576b"
             ],
             [
              0.6666666666666666,
              "#ed7953"
             ],
             [
              0.7777777777777778,
              "#fb9f3a"
             ],
             [
              0.8888888888888888,
              "#fdca26"
             ],
             [
              1,
              "#f0f921"
             ]
            ],
            "type": "surface"
           }
          ],
          "table": [
           {
            "cells": {
             "fill": {
              "color": "#EBF0F8"
             },
             "line": {
              "color": "white"
             }
            },
            "header": {
             "fill": {
              "color": "#C8D4E3"
             },
             "line": {
              "color": "white"
             }
            },
            "type": "table"
           }
          ]
         },
         "layout": {
          "annotationdefaults": {
           "arrowcolor": "#2a3f5f",
           "arrowhead": 0,
           "arrowwidth": 1
          },
          "autotypenumbers": "strict",
          "coloraxis": {
           "colorbar": {
            "outlinewidth": 0,
            "ticks": ""
           }
          },
          "colorscale": {
           "diverging": [
            [
             0,
             "#8e0152"
            ],
            [
             0.1,
             "#c51b7d"
            ],
            [
             0.2,
             "#de77ae"
            ],
            [
             0.3,
             "#f1b6da"
            ],
            [
             0.4,
             "#fde0ef"
            ],
            [
             0.5,
             "#f7f7f7"
            ],
            [
             0.6,
             "#e6f5d0"
            ],
            [
             0.7,
             "#b8e186"
            ],
            [
             0.8,
             "#7fbc41"
            ],
            [
             0.9,
             "#4d9221"
            ],
            [
             1,
             "#276419"
            ]
           ],
           "sequential": [
            [
             0,
             "#0d0887"
            ],
            [
             0.1111111111111111,
             "#46039f"
            ],
            [
             0.2222222222222222,
             "#7201a8"
            ],
            [
             0.3333333333333333,
             "#9c179e"
            ],
            [
             0.4444444444444444,
             "#bd3786"
            ],
            [
             0.5555555555555556,
             "#d8576b"
            ],
            [
             0.6666666666666666,
             "#ed7953"
            ],
            [
             0.7777777777777778,
             "#fb9f3a"
            ],
            [
             0.8888888888888888,
             "#fdca26"
            ],
            [
             1,
             "#f0f921"
            ]
           ],
           "sequentialminus": [
            [
             0,
             "#0d0887"
            ],
            [
             0.1111111111111111,
             "#46039f"
            ],
            [
             0.2222222222222222,
             "#7201a8"
            ],
            [
             0.3333333333333333,
             "#9c179e"
            ],
            [
             0.4444444444444444,
             "#bd3786"
            ],
            [
             0.5555555555555556,
             "#d8576b"
            ],
            [
             0.6666666666666666,
             "#ed7953"
            ],
            [
             0.7777777777777778,
             "#fb9f3a"
            ],
            [
             0.8888888888888888,
             "#fdca26"
            ],
            [
             1,
             "#f0f921"
            ]
           ]
          },
          "colorway": [
           "#636efa",
           "#EF553B",
           "#00cc96",
           "#ab63fa",
           "#FFA15A",
           "#19d3f3",
           "#FF6692",
           "#B6E880",
           "#FF97FF",
           "#FECB52"
          ],
          "font": {
           "color": "#2a3f5f"
          },
          "geo": {
           "bgcolor": "white",
           "lakecolor": "white",
           "landcolor": "#E5ECF6",
           "showlakes": true,
           "showland": true,
           "subunitcolor": "white"
          },
          "hoverlabel": {
           "align": "left"
          },
          "hovermode": "closest",
          "mapbox": {
           "style": "light"
          },
          "paper_bgcolor": "white",
          "plot_bgcolor": "#E5ECF6",
          "polar": {
           "angularaxis": {
            "gridcolor": "white",
            "linecolor": "white",
            "ticks": ""
           },
           "bgcolor": "#E5ECF6",
           "radialaxis": {
            "gridcolor": "white",
            "linecolor": "white",
            "ticks": ""
           }
          },
          "scene": {
           "xaxis": {
            "backgroundcolor": "#E5ECF6",
            "gridcolor": "white",
            "gridwidth": 2,
            "linecolor": "white",
            "showbackground": true,
            "ticks": "",
            "zerolinecolor": "white"
           },
           "yaxis": {
            "backgroundcolor": "#E5ECF6",
            "gridcolor": "white",
            "gridwidth": 2,
            "linecolor": "white",
            "showbackground": true,
            "ticks": "",
            "zerolinecolor": "white"
           },
           "zaxis": {
            "backgroundcolor": "#E5ECF6",
            "gridcolor": "white",
            "gridwidth": 2,
            "linecolor": "white",
            "showbackground": true,
            "ticks": "",
            "zerolinecolor": "white"
           }
          },
          "shapedefaults": {
           "line": {
            "color": "#2a3f5f"
           }
          },
          "ternary": {
           "aaxis": {
            "gridcolor": "white",
            "linecolor": "white",
            "ticks": ""
           },
           "baxis": {
            "gridcolor": "white",
            "linecolor": "white",
            "ticks": ""
           },
           "bgcolor": "#E5ECF6",
           "caxis": {
            "gridcolor": "white",
            "linecolor": "white",
            "ticks": ""
           }
          },
          "title": {
           "x": 0.05
          },
          "xaxis": {
           "automargin": true,
           "gridcolor": "white",
           "linecolor": "white",
           "ticks": "",
           "title": {
            "standoff": 15
           },
           "zerolinecolor": "white",
           "zerolinewidth": 2
          },
          "yaxis": {
           "automargin": true,
           "gridcolor": "white",
           "linecolor": "white",
           "ticks": "",
           "title": {
            "standoff": 15
           },
           "zerolinecolor": "white",
           "zerolinewidth": 2
          }
         }
        },
        "title": {
         "text": "Total Goals by Team"
        },
        "xaxis": {
         "anchor": "y",
         "domain": [
          0,
          1
         ],
         "title": {
          "text": "Goals"
         }
        },
        "yaxis": {
         "anchor": "x",
         "domain": [
          0,
          1
         ],
         "title": {
          "text": "Team"
         }
        }
       }
      }
     },
     "metadata": {},
     "output_type": "display_data"
    }
   ],
   "source": [
    "fig1 = px.bar(\n",
    "    team_goals.reset_index(), \n",
    "    x='Goals', \n",
    "    y='Team', \n",
    "    orientation='h', \n",
    "    title='Total Goals by Team'\n",
    ")\n",
    "fig1.show()"
   ]
  },
  {
   "cell_type": "code",
   "execution_count": 69,
   "metadata": {},
   "outputs": [
    {
     "data": {
      "application/vnd.plotly.v1+json": {
       "config": {
        "plotlyServerURL": "https://plot.ly"
       },
       "data": [
        {
         "alignmentgroup": "True",
         "hovertemplate": "Team=Team A<br>Season=%{x}<br>Goals=%{y}<extra></extra>",
         "legendgroup": "Team A",
         "marker": {
          "color": "#636efa",
          "pattern": {
           "shape": ""
          }
         },
         "name": "Team A",
         "offsetgroup": "Team A",
         "orientation": "v",
         "showlegend": true,
         "textposition": "auto",
         "type": "bar",
         "x": [
          2019,
          2020,
          2021,
          2022
         ],
         "xaxis": "x",
         "y": [
          22161,
          26159,
          24078,
          25079
         ],
         "yaxis": "y"
        },
        {
         "alignmentgroup": "True",
         "hovertemplate": "Team=Team B<br>Season=%{x}<br>Goals=%{y}<extra></extra>",
         "legendgroup": "Team B",
         "marker": {
          "color": "#EF553B",
          "pattern": {
           "shape": ""
          }
         },
         "name": "Team B",
         "offsetgroup": "Team B",
         "orientation": "v",
         "showlegend": true,
         "textposition": "auto",
         "type": "bar",
         "x": [
          2019,
          2020,
          2021,
          2022
         ],
         "xaxis": "x",
         "y": [
          25033,
          30015,
          27865,
          23748
         ],
         "yaxis": "y"
        },
        {
         "alignmentgroup": "True",
         "hovertemplate": "Team=Team C<br>Season=%{x}<br>Goals=%{y}<extra></extra>",
         "legendgroup": "Team C",
         "marker": {
          "color": "#00cc96",
          "pattern": {
           "shape": ""
          }
         },
         "name": "Team C",
         "offsetgroup": "Team C",
         "orientation": "v",
         "showlegend": true,
         "textposition": "auto",
         "type": "bar",
         "x": [
          2019,
          2020,
          2021,
          2022
         ],
         "xaxis": "x",
         "y": [
          27368,
          23539,
          24257,
          22734
         ],
         "yaxis": "y"
        }
       ],
       "layout": {
        "barmode": "stack",
        "legend": {
         "title": {
          "text": "Team"
         },
         "tracegroupgap": 0
        },
        "template": {
         "data": {
          "bar": [
           {
            "error_x": {
             "color": "#2a3f5f"
            },
            "error_y": {
             "color": "#2a3f5f"
            },
            "marker": {
             "line": {
              "color": "#E5ECF6",
              "width": 0.5
             },
             "pattern": {
              "fillmode": "overlay",
              "size": 10,
              "solidity": 0.2
             }
            },
            "type": "bar"
           }
          ],
          "barpolar": [
           {
            "marker": {
             "line": {
              "color": "#E5ECF6",
              "width": 0.5
             },
             "pattern": {
              "fillmode": "overlay",
              "size": 10,
              "solidity": 0.2
             }
            },
            "type": "barpolar"
           }
          ],
          "carpet": [
           {
            "aaxis": {
             "endlinecolor": "#2a3f5f",
             "gridcolor": "white",
             "linecolor": "white",
             "minorgridcolor": "white",
             "startlinecolor": "#2a3f5f"
            },
            "baxis": {
             "endlinecolor": "#2a3f5f",
             "gridcolor": "white",
             "linecolor": "white",
             "minorgridcolor": "white",
             "startlinecolor": "#2a3f5f"
            },
            "type": "carpet"
           }
          ],
          "choropleth": [
           {
            "colorbar": {
             "outlinewidth": 0,
             "ticks": ""
            },
            "type": "choropleth"
           }
          ],
          "contour": [
           {
            "colorbar": {
             "outlinewidth": 0,
             "ticks": ""
            },
            "colorscale": [
             [
              0,
              "#0d0887"
             ],
             [
              0.1111111111111111,
              "#46039f"
             ],
             [
              0.2222222222222222,
              "#7201a8"
             ],
             [
              0.3333333333333333,
              "#9c179e"
             ],
             [
              0.4444444444444444,
              "#bd3786"
             ],
             [
              0.5555555555555556,
              "#d8576b"
             ],
             [
              0.6666666666666666,
              "#ed7953"
             ],
             [
              0.7777777777777778,
              "#fb9f3a"
             ],
             [
              0.8888888888888888,
              "#fdca26"
             ],
             [
              1,
              "#f0f921"
             ]
            ],
            "type": "contour"
           }
          ],
          "contourcarpet": [
           {
            "colorbar": {
             "outlinewidth": 0,
             "ticks": ""
            },
            "type": "contourcarpet"
           }
          ],
          "heatmap": [
           {
            "colorbar": {
             "outlinewidth": 0,
             "ticks": ""
            },
            "colorscale": [
             [
              0,
              "#0d0887"
             ],
             [
              0.1111111111111111,
              "#46039f"
             ],
             [
              0.2222222222222222,
              "#7201a8"
             ],
             [
              0.3333333333333333,
              "#9c179e"
             ],
             [
              0.4444444444444444,
              "#bd3786"
             ],
             [
              0.5555555555555556,
              "#d8576b"
             ],
             [
              0.6666666666666666,
              "#ed7953"
             ],
             [
              0.7777777777777778,
              "#fb9f3a"
             ],
             [
              0.8888888888888888,
              "#fdca26"
             ],
             [
              1,
              "#f0f921"
             ]
            ],
            "type": "heatmap"
           }
          ],
          "heatmapgl": [
           {
            "colorbar": {
             "outlinewidth": 0,
             "ticks": ""
            },
            "colorscale": [
             [
              0,
              "#0d0887"
             ],
             [
              0.1111111111111111,
              "#46039f"
             ],
             [
              0.2222222222222222,
              "#7201a8"
             ],
             [
              0.3333333333333333,
              "#9c179e"
             ],
             [
              0.4444444444444444,
              "#bd3786"
             ],
             [
              0.5555555555555556,
              "#d8576b"
             ],
             [
              0.6666666666666666,
              "#ed7953"
             ],
             [
              0.7777777777777778,
              "#fb9f3a"
             ],
             [
              0.8888888888888888,
              "#fdca26"
             ],
             [
              1,
              "#f0f921"
             ]
            ],
            "type": "heatmapgl"
           }
          ],
          "histogram": [
           {
            "marker": {
             "pattern": {
              "fillmode": "overlay",
              "size": 10,
              "solidity": 0.2
             }
            },
            "type": "histogram"
           }
          ],
          "histogram2d": [
           {
            "colorbar": {
             "outlinewidth": 0,
             "ticks": ""
            },
            "colorscale": [
             [
              0,
              "#0d0887"
             ],
             [
              0.1111111111111111,
              "#46039f"
             ],
             [
              0.2222222222222222,
              "#7201a8"
             ],
             [
              0.3333333333333333,
              "#9c179e"
             ],
             [
              0.4444444444444444,
              "#bd3786"
             ],
             [
              0.5555555555555556,
              "#d8576b"
             ],
             [
              0.6666666666666666,
              "#ed7953"
             ],
             [
              0.7777777777777778,
              "#fb9f3a"
             ],
             [
              0.8888888888888888,
              "#fdca26"
             ],
             [
              1,
              "#f0f921"
             ]
            ],
            "type": "histogram2d"
           }
          ],
          "histogram2dcontour": [
           {
            "colorbar": {
             "outlinewidth": 0,
             "ticks": ""
            },
            "colorscale": [
             [
              0,
              "#0d0887"
             ],
             [
              0.1111111111111111,
              "#46039f"
             ],
             [
              0.2222222222222222,
              "#7201a8"
             ],
             [
              0.3333333333333333,
              "#9c179e"
             ],
             [
              0.4444444444444444,
              "#bd3786"
             ],
             [
              0.5555555555555556,
              "#d8576b"
             ],
             [
              0.6666666666666666,
              "#ed7953"
             ],
             [
              0.7777777777777778,
              "#fb9f3a"
             ],
             [
              0.8888888888888888,
              "#fdca26"
             ],
             [
              1,
              "#f0f921"
             ]
            ],
            "type": "histogram2dcontour"
           }
          ],
          "mesh3d": [
           {
            "colorbar": {
             "outlinewidth": 0,
             "ticks": ""
            },
            "type": "mesh3d"
           }
          ],
          "parcoords": [
           {
            "line": {
             "colorbar": {
              "outlinewidth": 0,
              "ticks": ""
             }
            },
            "type": "parcoords"
           }
          ],
          "pie": [
           {
            "automargin": true,
            "type": "pie"
           }
          ],
          "scatter": [
           {
            "fillpattern": {
             "fillmode": "overlay",
             "size": 10,
             "solidity": 0.2
            },
            "type": "scatter"
           }
          ],
          "scatter3d": [
           {
            "line": {
             "colorbar": {
              "outlinewidth": 0,
              "ticks": ""
             }
            },
            "marker": {
             "colorbar": {
              "outlinewidth": 0,
              "ticks": ""
             }
            },
            "type": "scatter3d"
           }
          ],
          "scattercarpet": [
           {
            "marker": {
             "colorbar": {
              "outlinewidth": 0,
              "ticks": ""
             }
            },
            "type": "scattercarpet"
           }
          ],
          "scattergeo": [
           {
            "marker": {
             "colorbar": {
              "outlinewidth": 0,
              "ticks": ""
             }
            },
            "type": "scattergeo"
           }
          ],
          "scattergl": [
           {
            "marker": {
             "colorbar": {
              "outlinewidth": 0,
              "ticks": ""
             }
            },
            "type": "scattergl"
           }
          ],
          "scattermapbox": [
           {
            "marker": {
             "colorbar": {
              "outlinewidth": 0,
              "ticks": ""
             }
            },
            "type": "scattermapbox"
           }
          ],
          "scatterpolar": [
           {
            "marker": {
             "colorbar": {
              "outlinewidth": 0,
              "ticks": ""
             }
            },
            "type": "scatterpolar"
           }
          ],
          "scatterpolargl": [
           {
            "marker": {
             "colorbar": {
              "outlinewidth": 0,
              "ticks": ""
             }
            },
            "type": "scatterpolargl"
           }
          ],
          "scatterternary": [
           {
            "marker": {
             "colorbar": {
              "outlinewidth": 0,
              "ticks": ""
             }
            },
            "type": "scatterternary"
           }
          ],
          "surface": [
           {
            "colorbar": {
             "outlinewidth": 0,
             "ticks": ""
            },
            "colorscale": [
             [
              0,
              "#0d0887"
             ],
             [
              0.1111111111111111,
              "#46039f"
             ],
             [
              0.2222222222222222,
              "#7201a8"
             ],
             [
              0.3333333333333333,
              "#9c179e"
             ],
             [
              0.4444444444444444,
              "#bd3786"
             ],
             [
              0.5555555555555556,
              "#d8576b"
             ],
             [
              0.6666666666666666,
              "#ed7953"
             ],
             [
              0.7777777777777778,
              "#fb9f3a"
             ],
             [
              0.8888888888888888,
              "#fdca26"
             ],
             [
              1,
              "#f0f921"
             ]
            ],
            "type": "surface"
           }
          ],
          "table": [
           {
            "cells": {
             "fill": {
              "color": "#EBF0F8"
             },
             "line": {
              "color": "white"
             }
            },
            "header": {
             "fill": {
              "color": "#C8D4E3"
             },
             "line": {
              "color": "white"
             }
            },
            "type": "table"
           }
          ]
         },
         "layout": {
          "annotationdefaults": {
           "arrowcolor": "#2a3f5f",
           "arrowhead": 0,
           "arrowwidth": 1
          },
          "autotypenumbers": "strict",
          "coloraxis": {
           "colorbar": {
            "outlinewidth": 0,
            "ticks": ""
           }
          },
          "colorscale": {
           "diverging": [
            [
             0,
             "#8e0152"
            ],
            [
             0.1,
             "#c51b7d"
            ],
            [
             0.2,
             "#de77ae"
            ],
            [
             0.3,
             "#f1b6da"
            ],
            [
             0.4,
             "#fde0ef"
            ],
            [
             0.5,
             "#f7f7f7"
            ],
            [
             0.6,
             "#e6f5d0"
            ],
            [
             0.7,
             "#b8e186"
            ],
            [
             0.8,
             "#7fbc41"
            ],
            [
             0.9,
             "#4d9221"
            ],
            [
             1,
             "#276419"
            ]
           ],
           "sequential": [
            [
             0,
             "#0d0887"
            ],
            [
             0.1111111111111111,
             "#46039f"
            ],
            [
             0.2222222222222222,
             "#7201a8"
            ],
            [
             0.3333333333333333,
             "#9c179e"
            ],
            [
             0.4444444444444444,
             "#bd3786"
            ],
            [
             0.5555555555555556,
             "#d8576b"
            ],
            [
             0.6666666666666666,
             "#ed7953"
            ],
            [
             0.7777777777777778,
             "#fb9f3a"
            ],
            [
             0.8888888888888888,
             "#fdca26"
            ],
            [
             1,
             "#f0f921"
            ]
           ],
           "sequentialminus": [
            [
             0,
             "#0d0887"
            ],
            [
             0.1111111111111111,
             "#46039f"
            ],
            [
             0.2222222222222222,
             "#7201a8"
            ],
            [
             0.3333333333333333,
             "#9c179e"
            ],
            [
             0.4444444444444444,
             "#bd3786"
            ],
            [
             0.5555555555555556,
             "#d8576b"
            ],
            [
             0.6666666666666666,
             "#ed7953"
            ],
            [
             0.7777777777777778,
             "#fb9f3a"
            ],
            [
             0.8888888888888888,
             "#fdca26"
            ],
            [
             1,
             "#f0f921"
            ]
           ]
          },
          "colorway": [
           "#636efa",
           "#EF553B",
           "#00cc96",
           "#ab63fa",
           "#FFA15A",
           "#19d3f3",
           "#FF6692",
           "#B6E880",
           "#FF97FF",
           "#FECB52"
          ],
          "font": {
           "color": "#2a3f5f"
          },
          "geo": {
           "bgcolor": "white",
           "lakecolor": "white",
           "landcolor": "#E5ECF6",
           "showlakes": true,
           "showland": true,
           "subunitcolor": "white"
          },
          "hoverlabel": {
           "align": "left"
          },
          "hovermode": "closest",
          "mapbox": {
           "style": "light"
          },
          "paper_bgcolor": "white",
          "plot_bgcolor": "#E5ECF6",
          "polar": {
           "angularaxis": {
            "gridcolor": "white",
            "linecolor": "white",
            "ticks": ""
           },
           "bgcolor": "#E5ECF6",
           "radialaxis": {
            "gridcolor": "white",
            "linecolor": "white",
            "ticks": ""
           }
          },
          "scene": {
           "xaxis": {
            "backgroundcolor": "#E5ECF6",
            "gridcolor": "white",
            "gridwidth": 2,
            "linecolor": "white",
            "showbackground": true,
            "ticks": "",
            "zerolinecolor": "white"
           },
           "yaxis": {
            "backgroundcolor": "#E5ECF6",
            "gridcolor": "white",
            "gridwidth": 2,
            "linecolor": "white",
            "showbackground": true,
            "ticks": "",
            "zerolinecolor": "white"
           },
           "zaxis": {
            "backgroundcolor": "#E5ECF6",
            "gridcolor": "white",
            "gridwidth": 2,
            "linecolor": "white",
            "showbackground": true,
            "ticks": "",
            "zerolinecolor": "white"
           }
          },
          "shapedefaults": {
           "line": {
            "color": "#2a3f5f"
           }
          },
          "ternary": {
           "aaxis": {
            "gridcolor": "white",
            "linecolor": "white",
            "ticks": ""
           },
           "baxis": {
            "gridcolor": "white",
            "linecolor": "white",
            "ticks": ""
           },
           "bgcolor": "#E5ECF6",
           "caxis": {
            "gridcolor": "white",
            "linecolor": "white",
            "ticks": ""
           }
          },
          "title": {
           "x": 0.05
          },
          "xaxis": {
           "automargin": true,
           "gridcolor": "white",
           "linecolor": "white",
           "ticks": "",
           "title": {
            "standoff": 15
           },
           "zerolinecolor": "white",
           "zerolinewidth": 2
          },
          "yaxis": {
           "automargin": true,
           "gridcolor": "white",
           "linecolor": "white",
           "ticks": "",
           "title": {
            "standoff": 15
           },
           "zerolinecolor": "white",
           "zerolinewidth": 2
          }
         }
        },
        "title": {
         "text": "Goals by Team and Season"
        },
        "xaxis": {
         "anchor": "y",
         "domain": [
          0,
          1
         ],
         "title": {
          "text": "Season"
         }
        },
        "yaxis": {
         "anchor": "x",
         "domain": [
          0,
          1
         ],
         "title": {
          "text": "Goals"
         }
        }
       }
      }
     },
     "metadata": {},
     "output_type": "display_data"
    }
   ],
   "source": [
    "season_team_goals = data.groupby(['Season', 'Team'])['Goals'].sum().reset_index()\n",
    "fig2 = px.bar(\n",
    "    season_team_goals, \n",
    "    x='Season', \n",
    "    y='Goals', \n",
    "    color='Team', \n",
    "    title='Goals by Team and Season', \n",
    "    barmode='stack'\n",
    ")\n",
    "fig2.show()"
   ]
  },
  {
   "cell_type": "code",
   "execution_count": 70,
   "metadata": {},
   "outputs": [
    {
     "data": {
      "application/vnd.plotly.v1+json": {
       "config": {
        "plotlyServerURL": "https://plot.ly"
       },
       "data": [
        {
         "hovertemplate": "Season=%{x}<br>Goals=%{y}<extra></extra>",
         "legendgroup": "",
         "line": {
          "color": "#636efa",
          "dash": "solid"
         },
         "marker": {
          "symbol": "circle"
         },
         "mode": "lines",
         "name": "",
         "orientation": "v",
         "showlegend": false,
         "type": "scatter",
         "x": [
          2019,
          2020,
          2021,
          2022
         ],
         "xaxis": "x",
         "y": [
          25033,
          30015,
          27865,
          23748
         ],
         "yaxis": "y"
        }
       ],
       "layout": {
        "legend": {
         "tracegroupgap": 0
        },
        "template": {
         "data": {
          "bar": [
           {
            "error_x": {
             "color": "#2a3f5f"
            },
            "error_y": {
             "color": "#2a3f5f"
            },
            "marker": {
             "line": {
              "color": "#E5ECF6",
              "width": 0.5
             },
             "pattern": {
              "fillmode": "overlay",
              "size": 10,
              "solidity": 0.2
             }
            },
            "type": "bar"
           }
          ],
          "barpolar": [
           {
            "marker": {
             "line": {
              "color": "#E5ECF6",
              "width": 0.5
             },
             "pattern": {
              "fillmode": "overlay",
              "size": 10,
              "solidity": 0.2
             }
            },
            "type": "barpolar"
           }
          ],
          "carpet": [
           {
            "aaxis": {
             "endlinecolor": "#2a3f5f",
             "gridcolor": "white",
             "linecolor": "white",
             "minorgridcolor": "white",
             "startlinecolor": "#2a3f5f"
            },
            "baxis": {
             "endlinecolor": "#2a3f5f",
             "gridcolor": "white",
             "linecolor": "white",
             "minorgridcolor": "white",
             "startlinecolor": "#2a3f5f"
            },
            "type": "carpet"
           }
          ],
          "choropleth": [
           {
            "colorbar": {
             "outlinewidth": 0,
             "ticks": ""
            },
            "type": "choropleth"
           }
          ],
          "contour": [
           {
            "colorbar": {
             "outlinewidth": 0,
             "ticks": ""
            },
            "colorscale": [
             [
              0,
              "#0d0887"
             ],
             [
              0.1111111111111111,
              "#46039f"
             ],
             [
              0.2222222222222222,
              "#7201a8"
             ],
             [
              0.3333333333333333,
              "#9c179e"
             ],
             [
              0.4444444444444444,
              "#bd3786"
             ],
             [
              0.5555555555555556,
              "#d8576b"
             ],
             [
              0.6666666666666666,
              "#ed7953"
             ],
             [
              0.7777777777777778,
              "#fb9f3a"
             ],
             [
              0.8888888888888888,
              "#fdca26"
             ],
             [
              1,
              "#f0f921"
             ]
            ],
            "type": "contour"
           }
          ],
          "contourcarpet": [
           {
            "colorbar": {
             "outlinewidth": 0,
             "ticks": ""
            },
            "type": "contourcarpet"
           }
          ],
          "heatmap": [
           {
            "colorbar": {
             "outlinewidth": 0,
             "ticks": ""
            },
            "colorscale": [
             [
              0,
              "#0d0887"
             ],
             [
              0.1111111111111111,
              "#46039f"
             ],
             [
              0.2222222222222222,
              "#7201a8"
             ],
             [
              0.3333333333333333,
              "#9c179e"
             ],
             [
              0.4444444444444444,
              "#bd3786"
             ],
             [
              0.5555555555555556,
              "#d8576b"
             ],
             [
              0.6666666666666666,
              "#ed7953"
             ],
             [
              0.7777777777777778,
              "#fb9f3a"
             ],
             [
              0.8888888888888888,
              "#fdca26"
             ],
             [
              1,
              "#f0f921"
             ]
            ],
            "type": "heatmap"
           }
          ],
          "heatmapgl": [
           {
            "colorbar": {
             "outlinewidth": 0,
             "ticks": ""
            },
            "colorscale": [
             [
              0,
              "#0d0887"
             ],
             [
              0.1111111111111111,
              "#46039f"
             ],
             [
              0.2222222222222222,
              "#7201a8"
             ],
             [
              0.3333333333333333,
              "#9c179e"
             ],
             [
              0.4444444444444444,
              "#bd3786"
             ],
             [
              0.5555555555555556,
              "#d8576b"
             ],
             [
              0.6666666666666666,
              "#ed7953"
             ],
             [
              0.7777777777777778,
              "#fb9f3a"
             ],
             [
              0.8888888888888888,
              "#fdca26"
             ],
             [
              1,
              "#f0f921"
             ]
            ],
            "type": "heatmapgl"
           }
          ],
          "histogram": [
           {
            "marker": {
             "pattern": {
              "fillmode": "overlay",
              "size": 10,
              "solidity": 0.2
             }
            },
            "type": "histogram"
           }
          ],
          "histogram2d": [
           {
            "colorbar": {
             "outlinewidth": 0,
             "ticks": ""
            },
            "colorscale": [
             [
              0,
              "#0d0887"
             ],
             [
              0.1111111111111111,
              "#46039f"
             ],
             [
              0.2222222222222222,
              "#7201a8"
             ],
             [
              0.3333333333333333,
              "#9c179e"
             ],
             [
              0.4444444444444444,
              "#bd3786"
             ],
             [
              0.5555555555555556,
              "#d8576b"
             ],
             [
              0.6666666666666666,
              "#ed7953"
             ],
             [
              0.7777777777777778,
              "#fb9f3a"
             ],
             [
              0.8888888888888888,
              "#fdca26"
             ],
             [
              1,
              "#f0f921"
             ]
            ],
            "type": "histogram2d"
           }
          ],
          "histogram2dcontour": [
           {
            "colorbar": {
             "outlinewidth": 0,
             "ticks": ""
            },
            "colorscale": [
             [
              0,
              "#0d0887"
             ],
             [
              0.1111111111111111,
              "#46039f"
             ],
             [
              0.2222222222222222,
              "#7201a8"
             ],
             [
              0.3333333333333333,
              "#9c179e"
             ],
             [
              0.4444444444444444,
              "#bd3786"
             ],
             [
              0.5555555555555556,
              "#d8576b"
             ],
             [
              0.6666666666666666,
              "#ed7953"
             ],
             [
              0.7777777777777778,
              "#fb9f3a"
             ],
             [
              0.8888888888888888,
              "#fdca26"
             ],
             [
              1,
              "#f0f921"
             ]
            ],
            "type": "histogram2dcontour"
           }
          ],
          "mesh3d": [
           {
            "colorbar": {
             "outlinewidth": 0,
             "ticks": ""
            },
            "type": "mesh3d"
           }
          ],
          "parcoords": [
           {
            "line": {
             "colorbar": {
              "outlinewidth": 0,
              "ticks": ""
             }
            },
            "type": "parcoords"
           }
          ],
          "pie": [
           {
            "automargin": true,
            "type": "pie"
           }
          ],
          "scatter": [
           {
            "fillpattern": {
             "fillmode": "overlay",
             "size": 10,
             "solidity": 0.2
            },
            "type": "scatter"
           }
          ],
          "scatter3d": [
           {
            "line": {
             "colorbar": {
              "outlinewidth": 0,
              "ticks": ""
             }
            },
            "marker": {
             "colorbar": {
              "outlinewidth": 0,
              "ticks": ""
             }
            },
            "type": "scatter3d"
           }
          ],
          "scattercarpet": [
           {
            "marker": {
             "colorbar": {
              "outlinewidth": 0,
              "ticks": ""
             }
            },
            "type": "scattercarpet"
           }
          ],
          "scattergeo": [
           {
            "marker": {
             "colorbar": {
              "outlinewidth": 0,
              "ticks": ""
             }
            },
            "type": "scattergeo"
           }
          ],
          "scattergl": [
           {
            "marker": {
             "colorbar": {
              "outlinewidth": 0,
              "ticks": ""
             }
            },
            "type": "scattergl"
           }
          ],
          "scattermapbox": [
           {
            "marker": {
             "colorbar": {
              "outlinewidth": 0,
              "ticks": ""
             }
            },
            "type": "scattermapbox"
           }
          ],
          "scatterpolar": [
           {
            "marker": {
             "colorbar": {
              "outlinewidth": 0,
              "ticks": ""
             }
            },
            "type": "scatterpolar"
           }
          ],
          "scatterpolargl": [
           {
            "marker": {
             "colorbar": {
              "outlinewidth": 0,
              "ticks": ""
             }
            },
            "type": "scatterpolargl"
           }
          ],
          "scatterternary": [
           {
            "marker": {
             "colorbar": {
              "outlinewidth": 0,
              "ticks": ""
             }
            },
            "type": "scatterternary"
           }
          ],
          "surface": [
           {
            "colorbar": {
             "outlinewidth": 0,
             "ticks": ""
            },
            "colorscale": [
             [
              0,
              "#0d0887"
             ],
             [
              0.1111111111111111,
              "#46039f"
             ],
             [
              0.2222222222222222,
              "#7201a8"
             ],
             [
              0.3333333333333333,
              "#9c179e"
             ],
             [
              0.4444444444444444,
              "#bd3786"
             ],
             [
              0.5555555555555556,
              "#d8576b"
             ],
             [
              0.6666666666666666,
              "#ed7953"
             ],
             [
              0.7777777777777778,
              "#fb9f3a"
             ],
             [
              0.8888888888888888,
              "#fdca26"
             ],
             [
              1,
              "#f0f921"
             ]
            ],
            "type": "surface"
           }
          ],
          "table": [
           {
            "cells": {
             "fill": {
              "color": "#EBF0F8"
             },
             "line": {
              "color": "white"
             }
            },
            "header": {
             "fill": {
              "color": "#C8D4E3"
             },
             "line": {
              "color": "white"
             }
            },
            "type": "table"
           }
          ]
         },
         "layout": {
          "annotationdefaults": {
           "arrowcolor": "#2a3f5f",
           "arrowhead": 0,
           "arrowwidth": 1
          },
          "autotypenumbers": "strict",
          "coloraxis": {
           "colorbar": {
            "outlinewidth": 0,
            "ticks": ""
           }
          },
          "colorscale": {
           "diverging": [
            [
             0,
             "#8e0152"
            ],
            [
             0.1,
             "#c51b7d"
            ],
            [
             0.2,
             "#de77ae"
            ],
            [
             0.3,
             "#f1b6da"
            ],
            [
             0.4,
             "#fde0ef"
            ],
            [
             0.5,
             "#f7f7f7"
            ],
            [
             0.6,
             "#e6f5d0"
            ],
            [
             0.7,
             "#b8e186"
            ],
            [
             0.8,
             "#7fbc41"
            ],
            [
             0.9,
             "#4d9221"
            ],
            [
             1,
             "#276419"
            ]
           ],
           "sequential": [
            [
             0,
             "#0d0887"
            ],
            [
             0.1111111111111111,
             "#46039f"
            ],
            [
             0.2222222222222222,
             "#7201a8"
            ],
            [
             0.3333333333333333,
             "#9c179e"
            ],
            [
             0.4444444444444444,
             "#bd3786"
            ],
            [
             0.5555555555555556,
             "#d8576b"
            ],
            [
             0.6666666666666666,
             "#ed7953"
            ],
            [
             0.7777777777777778,
             "#fb9f3a"
            ],
            [
             0.8888888888888888,
             "#fdca26"
            ],
            [
             1,
             "#f0f921"
            ]
           ],
           "sequentialminus": [
            [
             0,
             "#0d0887"
            ],
            [
             0.1111111111111111,
             "#46039f"
            ],
            [
             0.2222222222222222,
             "#7201a8"
            ],
            [
             0.3333333333333333,
             "#9c179e"
            ],
            [
             0.4444444444444444,
             "#bd3786"
            ],
            [
             0.5555555555555556,
             "#d8576b"
            ],
            [
             0.6666666666666666,
             "#ed7953"
            ],
            [
             0.7777777777777778,
             "#fb9f3a"
            ],
            [
             0.8888888888888888,
             "#fdca26"
            ],
            [
             1,
             "#f0f921"
            ]
           ]
          },
          "colorway": [
           "#636efa",
           "#EF553B",
           "#00cc96",
           "#ab63fa",
           "#FFA15A",
           "#19d3f3",
           "#FF6692",
           "#B6E880",
           "#FF97FF",
           "#FECB52"
          ],
          "font": {
           "color": "#2a3f5f"
          },
          "geo": {
           "bgcolor": "white",
           "lakecolor": "white",
           "landcolor": "#E5ECF6",
           "showlakes": true,
           "showland": true,
           "subunitcolor": "white"
          },
          "hoverlabel": {
           "align": "left"
          },
          "hovermode": "closest",
          "mapbox": {
           "style": "light"
          },
          "paper_bgcolor": "white",
          "plot_bgcolor": "#E5ECF6",
          "polar": {
           "angularaxis": {
            "gridcolor": "white",
            "linecolor": "white",
            "ticks": ""
           },
           "bgcolor": "#E5ECF6",
           "radialaxis": {
            "gridcolor": "white",
            "linecolor": "white",
            "ticks": ""
           }
          },
          "scene": {
           "xaxis": {
            "backgroundcolor": "#E5ECF6",
            "gridcolor": "white",
            "gridwidth": 2,
            "linecolor": "white",
            "showbackground": true,
            "ticks": "",
            "zerolinecolor": "white"
           },
           "yaxis": {
            "backgroundcolor": "#E5ECF6",
            "gridcolor": "white",
            "gridwidth": 2,
            "linecolor": "white",
            "showbackground": true,
            "ticks": "",
            "zerolinecolor": "white"
           },
           "zaxis": {
            "backgroundcolor": "#E5ECF6",
            "gridcolor": "white",
            "gridwidth": 2,
            "linecolor": "white",
            "showbackground": true,
            "ticks": "",
            "zerolinecolor": "white"
           }
          },
          "shapedefaults": {
           "line": {
            "color": "#2a3f5f"
           }
          },
          "ternary": {
           "aaxis": {
            "gridcolor": "white",
            "linecolor": "white",
            "ticks": ""
           },
           "baxis": {
            "gridcolor": "white",
            "linecolor": "white",
            "ticks": ""
           },
           "bgcolor": "#E5ECF6",
           "caxis": {
            "gridcolor": "white",
            "linecolor": "white",
            "ticks": ""
           }
          },
          "title": {
           "x": 0.05
          },
          "xaxis": {
           "automargin": true,
           "gridcolor": "white",
           "linecolor": "white",
           "ticks": "",
           "title": {
            "standoff": 15
           },
           "zerolinecolor": "white",
           "zerolinewidth": 2
          },
          "yaxis": {
           "automargin": true,
           "gridcolor": "white",
           "linecolor": "white",
           "ticks": "",
           "title": {
            "standoff": 15
           },
           "zerolinecolor": "white",
           "zerolinewidth": 2
          }
         }
        },
        "title": {
         "text": "Goals Over Time for Team B"
        },
        "xaxis": {
         "anchor": "y",
         "domain": [
          0,
          1
         ],
         "title": {
          "text": "Season"
         }
        },
        "yaxis": {
         "anchor": "x",
         "domain": [
          0,
          1
         ],
         "title": {
          "text": "Goals"
         }
        }
       }
      }
     },
     "metadata": {},
     "output_type": "display_data"
    }
   ],
   "source": [
    "team_data = data[data['Team'] == team_with_highest_goals]\n",
    "goals_over_time = team_data.groupby('Season')['Goals'].sum().reset_index()\n",
    "fig3 = px.line(\n",
    "    goals_over_time, \n",
    "    x='Season', \n",
    "    y='Goals', \n",
    "    title=f'Goals Over Time for {team_with_highest_goals}'\n",
    ")\n",
    "fig3.show()"
   ]
  },
  {
   "cell_type": "code",
   "execution_count": 71,
   "metadata": {},
   "outputs": [
    {
     "name": "stdout",
     "output_type": "stream",
     "text": [
      "Top goal scorer in Team B: Player C\n"
     ]
    },
    {
     "data": {
      "application/vnd.plotly.v1+json": {
       "config": {
        "plotlyServerURL": "https://plot.ly"
       },
       "data": [
        {
         "mode": "lines+markers",
         "name": "Goals",
         "type": "scatter",
         "x": [
          2020,
          2021,
          2022,
          2020,
          2020,
          2020,
          2021,
          2019,
          2020,
          2019,
          2020,
          2021,
          2021,
          2019,
          2021,
          2019,
          2019,
          2021,
          2019,
          2021,
          2019,
          2020,
          2019,
          2022,
          2020,
          2020,
          2019,
          2020,
          2022,
          2022,
          2019,
          2020,
          2022,
          2020,
          2022,
          2022,
          2021,
          2022,
          2020,
          2020,
          2020,
          2019,
          2022,
          2019,
          2019,
          2022,
          2021,
          2020,
          2019,
          2020,
          2021,
          2020,
          2020,
          2021,
          2021,
          2021,
          2021,
          2022,
          2020,
          2021,
          2021,
          2020,
          2020,
          2019,
          2019,
          2021,
          2021,
          2020,
          2020,
          2020,
          2019,
          2019,
          2021,
          2021,
          2021,
          2020,
          2019,
          2019,
          2019,
          2021,
          2020,
          2020,
          2019,
          2021,
          2020,
          2020,
          2019,
          2019,
          2020,
          2021,
          2022,
          2021,
          2019,
          2022,
          2021,
          2021,
          2020,
          2021,
          2020,
          2020,
          2020,
          2019,
          2022,
          2022,
          2019,
          2020,
          2021,
          2019,
          2021,
          2019,
          2019,
          2020,
          2022,
          2021,
          2021,
          2019,
          2019,
          2019,
          2022,
          2020,
          2022,
          2021,
          2020,
          2020,
          2020,
          2021,
          2022,
          2022,
          2020,
          2019,
          2022,
          2022,
          2022,
          2020,
          2021,
          2019,
          2022,
          2022,
          2019,
          2020,
          2020,
          2020,
          2022,
          2019,
          2020,
          2019,
          2019,
          2021,
          2019,
          2021,
          2019,
          2022,
          2022,
          2021,
          2020,
          2021,
          2022,
          2019,
          2022,
          2022,
          2019,
          2021,
          2020,
          2020,
          2020,
          2019,
          2020,
          2022,
          2020,
          2021,
          2019,
          2022,
          2019,
          2022,
          2022,
          2020,
          2019,
          2022,
          2021,
          2022,
          2021,
          2021,
          2020,
          2020,
          2020,
          2022,
          2020,
          2021,
          2020,
          2019,
          2021,
          2021,
          2022,
          2020,
          2020,
          2019,
          2021,
          2021,
          2020,
          2019,
          2019,
          2022,
          2021,
          2021,
          2021,
          2021,
          2022,
          2020,
          2020,
          2022,
          2021,
          2021,
          2022,
          2019,
          2022,
          2021,
          2022,
          2021,
          2020,
          2021,
          2021,
          2022,
          2021,
          2020,
          2021,
          2021,
          2020,
          2021,
          2020,
          2020,
          2019,
          2022,
          2022,
          2021,
          2020,
          2022,
          2020,
          2022,
          2019,
          2019,
          2021,
          2020,
          2021,
          2019,
          2020,
          2020,
          2021,
          2019,
          2021,
          2020,
          2021,
          2021,
          2020,
          2022,
          2021,
          2020,
          2020,
          2020,
          2020,
          2021,
          2021,
          2021,
          2022,
          2021,
          2019,
          2021,
          2020,
          2021,
          2021,
          2021,
          2021,
          2019,
          2021,
          2019,
          2021,
          2019,
          2020,
          2020,
          2019,
          2022,
          2021,
          2022,
          2020,
          2020,
          2021,
          2021,
          2019,
          2021,
          2019,
          2022,
          2022,
          2022,
          2022,
          2020,
          2021,
          2020,
          2021,
          2021,
          2021,
          2021,
          2022,
          2021,
          2019,
          2021,
          2020,
          2019,
          2021,
          2022,
          2020,
          2020,
          2019,
          2022,
          2019,
          2020,
          2022,
          2020,
          2020,
          2022,
          2019,
          2020,
          2019,
          2019,
          2019,
          2021,
          2021,
          2022,
          2022,
          2019,
          2019,
          2020,
          2020,
          2021,
          2022,
          2022,
          2022,
          2020,
          2020,
          2022,
          2022,
          2022,
          2020,
          2021,
          2019,
          2021,
          2022,
          2019,
          2020,
          2021,
          2020,
          2022,
          2020,
          2022,
          2021,
          2020,
          2022,
          2022,
          2020,
          2021,
          2021,
          2022,
          2020,
          2022,
          2020,
          2019,
          2022,
          2019,
          2022,
          2022,
          2020,
          2020,
          2020,
          2022,
          2020,
          2019,
          2022,
          2021,
          2021,
          2022,
          2019,
          2021,
          2020,
          2022,
          2022,
          2021,
          2022,
          2019,
          2021,
          2019,
          2021,
          2020,
          2022,
          2019,
          2021,
          2019,
          2021,
          2022,
          2019,
          2019,
          2019,
          2019,
          2021,
          2021,
          2022,
          2021,
          2021,
          2020,
          2022,
          2020,
          2022,
          2021,
          2019,
          2022,
          2022,
          2022,
          2019,
          2021,
          2022,
          2021,
          2020,
          2022,
          2020,
          2020,
          2019,
          2021,
          2022,
          2021,
          2019,
          2019,
          2022,
          2021,
          2020,
          2021,
          2019,
          2021,
          2021,
          2019,
          2019,
          2019,
          2019,
          2021,
          2019,
          2019,
          2019,
          2020,
          2020,
          2021,
          2020,
          2019,
          2022,
          2022,
          2020,
          2022,
          2020,
          2020,
          2020,
          2021,
          2019,
          2019,
          2020,
          2022,
          2022,
          2022,
          2019,
          2021,
          2020,
          2021,
          2019,
          2021,
          2022,
          2019,
          2020,
          2021,
          2020,
          2019,
          2019,
          2022,
          2020,
          2022,
          2022,
          2020,
          2021,
          2019,
          2019,
          2020,
          2019,
          2021,
          2022,
          2021,
          2021,
          2020,
          2021,
          2020,
          2019,
          2021,
          2021,
          2019,
          2020,
          2019,
          2019,
          2019,
          2019,
          2021,
          2021,
          2020,
          2019,
          2019,
          2020,
          2020,
          2019,
          2019,
          2019,
          2022,
          2021,
          2019,
          2019,
          2021,
          2022,
          2020,
          2019,
          2019,
          2022,
          2022,
          2021,
          2019,
          2019,
          2021,
          2019,
          2019,
          2020,
          2022,
          2020,
          2019,
          2021,
          2019,
          2019,
          2021,
          2019,
          2020,
          2021,
          2019,
          2021,
          2020,
          2021,
          2022,
          2021,
          2019,
          2019,
          2022,
          2021,
          2019,
          2022,
          2021,
          2021,
          2022,
          2019,
          2019,
          2019,
          2020,
          2020,
          2019,
          2021,
          2020,
          2022,
          2019,
          2022,
          2019,
          2022,
          2021,
          2020,
          2020,
          2021,
          2021,
          2022,
          2022,
          2019,
          2019,
          2021,
          2020,
          2020,
          2022,
          2019,
          2020,
          2022,
          2020,
          2021,
          2021,
          2022,
          2019,
          2021,
          2020,
          2021,
          2021,
          2020,
          2021,
          2019,
          2019,
          2020,
          2022,
          2022,
          2020,
          2022,
          2022,
          2020,
          2022,
          2021,
          2021,
          2020,
          2021,
          2021,
          2019,
          2019,
          2022,
          2019,
          2020,
          2022,
          2020,
          2021,
          2021,
          2020,
          2022,
          2020,
          2019,
          2019,
          2021,
          2022,
          2022,
          2020,
          2020,
          2020,
          2021,
          2019,
          2022,
          2021,
          2019,
          2019,
          2019,
          2020,
          2019,
          2021,
          2022,
          2019,
          2022,
          2019,
          2022,
          2021,
          2019,
          2019,
          2019,
          2021,
          2019,
          2019,
          2019,
          2019,
          2019
         ],
         "y": [
          27,
          27,
          0,
          16,
          20,
          18,
          10,
          8,
          24,
          100,
          23,
          12,
          2700,
          7,
          27,
          14,
          4,
          150,
          24,
          230,
          0,
          200,
          20,
          15,
          18,
          29,
          230,
          2,
          0,
          130,
          50,
          26,
          7,
          18,
          27,
          20,
          80,
          22,
          25,
          290,
          12,
          10,
          3,
          130,
          230,
          29,
          14,
          20,
          27,
          3,
          3,
          10,
          4,
          5,
          6,
          4,
          25,
          5,
          3,
          240,
          24,
          4,
          18,
          22,
          13,
          12,
          28,
          100,
          250,
          180,
          24,
          28,
          240,
          25,
          20,
          9,
          18,
          18,
          25,
          26,
          140,
          20,
          13,
          13,
          150,
          8,
          19,
          100,
          27,
          280,
          16,
          10,
          9,
          22,
          18,
          110,
          18,
          1,
          90,
          11,
          22,
          130,
          1,
          27,
          8,
          18,
          25,
          1,
          26,
          6,
          4,
          0,
          10,
          220,
          29,
          6,
          10,
          14,
          19,
          25,
          0,
          20,
          0,
          2,
          23,
          24,
          18,
          2,
          11,
          16,
          22,
          21,
          90,
          1,
          25,
          160,
          25,
          22,
          19,
          25,
          250,
          10,
          19,
          25,
          13,
          16,
          20,
          12,
          70,
          200,
          28,
          3,
          27,
          1,
          5,
          6,
          25,
          29,
          8,
          0,
          23,
          150,
          8,
          20,
          22,
          16,
          90,
          23,
          17,
          27,
          3,
          18,
          280,
          29,
          19,
          0,
          150,
          3,
          9,
          17,
          9,
          80,
          21,
          27,
          290,
          25,
          11,
          22,
          14,
          240,
          26,
          16,
          110,
          50,
          27,
          19,
          21,
          7,
          28,
          8,
          13,
          9,
          28,
          270,
          140,
          10,
          19,
          260,
          27,
          6,
          4,
          6,
          110,
          20,
          25,
          17,
          29,
          29,
          20,
          16,
          210,
          23,
          16,
          19,
          19,
          1,
          18,
          0,
          22,
          22,
          22,
          0,
          11,
          19,
          11,
          22,
          20,
          8,
          16,
          10,
          22,
          8,
          11,
          0,
          22,
          22,
          11,
          18,
          110,
          8,
          13,
          19,
          18,
          25,
          190,
          2,
          18,
          9,
          27,
          19,
          0,
          27,
          9,
          27,
          290,
          12,
          1,
          24,
          23,
          140,
          8,
          20,
          20,
          24,
          50,
          0,
          6,
          27,
          140,
          8,
          4,
          21,
          10,
          230,
          90,
          15,
          29,
          6,
          10,
          2,
          24,
          28,
          18,
          150,
          22,
          8,
          11,
          3,
          27,
          12,
          140,
          240,
          170,
          130,
          18,
          12,
          8,
          20,
          22,
          3,
          10,
          4,
          16,
          2,
          22,
          25,
          23,
          15,
          4,
          280,
          0,
          0,
          2,
          11,
          2,
          8,
          2,
          26,
          20,
          4,
          21,
          7,
          29,
          23,
          130,
          26,
          15,
          13,
          0,
          23,
          2,
          8,
          70,
          24,
          270,
          18,
          4,
          22,
          27,
          24,
          15,
          27,
          16,
          16,
          29,
          9,
          11,
          13,
          19,
          29,
          290,
          1,
          8,
          15,
          25,
          22,
          100,
          11,
          270,
          24,
          0,
          23,
          28,
          170,
          0,
          10,
          240,
          27,
          3,
          0,
          28,
          260,
          130,
          8,
          13,
          13,
          10,
          23,
          2,
          21,
          3,
          15,
          20,
          19,
          26,
          17,
          27,
          22,
          26,
          18,
          30,
          40,
          2,
          11,
          22,
          14,
          290,
          230,
          6,
          100,
          25,
          27,
          1,
          26,
          130,
          6,
          20,
          11,
          290,
          18,
          26,
          19,
          2,
          0,
          18,
          290,
          4,
          27,
          25,
          11,
          19,
          0,
          19,
          15,
          1,
          13,
          27,
          3,
          14,
          29,
          3,
          21,
          22,
          130,
          16,
          18,
          100,
          260,
          0,
          13,
          9,
          8,
          22,
          110,
          22,
          18,
          3,
          4,
          110,
          10,
          8,
          220,
          9,
          11,
          8,
          12,
          12,
          3,
          100,
          27,
          29,
          18,
          22,
          0,
          10,
          4,
          17,
          11,
          8,
          27,
          25,
          280,
          18,
          19,
          40,
          18,
          28,
          24,
          25,
          25,
          27,
          160,
          27,
          26,
          22,
          20,
          2,
          22,
          2,
          240,
          15,
          12,
          1,
          30,
          27,
          12,
          8,
          29,
          210,
          250,
          6,
          13,
          23,
          0,
          19,
          230,
          11,
          1,
          22,
          2,
          22,
          13,
          230,
          8,
          220,
          100,
          110,
          29,
          19,
          19,
          10,
          18,
          29,
          13,
          140,
          3,
          2,
          25,
          22,
          18,
          23,
          8,
          10,
          290,
          10,
          6,
          10,
          2,
          19,
          260,
          3,
          15,
          28,
          15,
          290,
          3,
          16,
          16,
          3,
          25,
          2,
          24,
          25,
          8,
          140,
          12,
          20,
          22,
          4,
          26,
          160,
          2,
          18,
          12,
          29,
          24,
          2,
          22,
          4,
          12,
          22,
          8,
          24,
          23,
          10,
          23,
          18,
          11,
          22,
          22,
          18,
          70,
          6,
          240,
          8,
          29,
          20,
          15,
          18,
          100,
          240,
          2,
          70,
          9,
          24,
          8,
          25,
          260,
          29,
          26,
          3,
          260,
          0,
          7,
          6,
          0,
          3,
          14,
          27,
          6,
          29,
          11,
          23,
          290,
          150,
          50,
          7,
          27,
          24,
          15,
          22,
          270,
          22,
          26,
          25,
          15,
          12,
          28,
          3,
          13,
          8,
          16,
          25,
          2,
          9,
          2,
          23,
          22,
          13,
          27,
          8,
          18,
          1,
          13
         ]
        },
        {
         "mode": "lines+markers",
         "name": "Assists",
         "type": "scatter",
         "x": [
          2020,
          2021,
          2022,
          2020,
          2020,
          2020,
          2021,
          2019,
          2020,
          2019,
          2020,
          2021,
          2021,
          2019,
          2021,
          2019,
          2019,
          2021,
          2019,
          2021,
          2019,
          2020,
          2019,
          2022,
          2020,
          2020,
          2019,
          2020,
          2022,
          2022,
          2019,
          2020,
          2022,
          2020,
          2022,
          2022,
          2021,
          2022,
          2020,
          2020,
          2020,
          2019,
          2022,
          2019,
          2019,
          2022,
          2021,
          2020,
          2019,
          2020,
          2021,
          2020,
          2020,
          2021,
          2021,
          2021,
          2021,
          2022,
          2020,
          2021,
          2021,
          2020,
          2020,
          2019,
          2019,
          2021,
          2021,
          2020,
          2020,
          2020,
          2019,
          2019,
          2021,
          2021,
          2021,
          2020,
          2019,
          2019,
          2019,
          2021,
          2020,
          2020,
          2019,
          2021,
          2020,
          2020,
          2019,
          2019,
          2020,
          2021,
          2022,
          2021,
          2019,
          2022,
          2021,
          2021,
          2020,
          2021,
          2020,
          2020,
          2020,
          2019,
          2022,
          2022,
          2019,
          2020,
          2021,
          2019,
          2021,
          2019,
          2019,
          2020,
          2022,
          2021,
          2021,
          2019,
          2019,
          2019,
          2022,
          2020,
          2022,
          2021,
          2020,
          2020,
          2020,
          2021,
          2022,
          2022,
          2020,
          2019,
          2022,
          2022,
          2022,
          2020,
          2021,
          2019,
          2022,
          2022,
          2019,
          2020,
          2020,
          2020,
          2022,
          2019,
          2020,
          2019,
          2019,
          2021,
          2019,
          2021,
          2019,
          2022,
          2022,
          2021,
          2020,
          2021,
          2022,
          2019,
          2022,
          2022,
          2019,
          2021,
          2020,
          2020,
          2020,
          2019,
          2020,
          2022,
          2020,
          2021,
          2019,
          2022,
          2019,
          2022,
          2022,
          2020,
          2019,
          2022,
          2021,
          2022,
          2021,
          2021,
          2020,
          2020,
          2020,
          2022,
          2020,
          2021,
          2020,
          2019,
          2021,
          2021,
          2022,
          2020,
          2020,
          2019,
          2021,
          2021,
          2020,
          2019,
          2019,
          2022,
          2021,
          2021,
          2021,
          2021,
          2022,
          2020,
          2020,
          2022,
          2021,
          2021,
          2022,
          2019,
          2022,
          2021,
          2022,
          2021,
          2020,
          2021,
          2021,
          2022,
          2021,
          2020,
          2021,
          2021,
          2020,
          2021,
          2020,
          2020,
          2019,
          2022,
          2022,
          2021,
          2020,
          2022,
          2020,
          2022,
          2019,
          2019,
          2021,
          2020,
          2021,
          2019,
          2020,
          2020,
          2021,
          2019,
          2021,
          2020,
          2021,
          2021,
          2020,
          2022,
          2021,
          2020,
          2020,
          2020,
          2020,
          2021,
          2021,
          2021,
          2022,
          2021,
          2019,
          2021,
          2020,
          2021,
          2021,
          2021,
          2021,
          2019,
          2021,
          2019,
          2021,
          2019,
          2020,
          2020,
          2019,
          2022,
          2021,
          2022,
          2020,
          2020,
          2021,
          2021,
          2019,
          2021,
          2019,
          2022,
          2022,
          2022,
          2022,
          2020,
          2021,
          2020,
          2021,
          2021,
          2021,
          2021,
          2022,
          2021,
          2019,
          2021,
          2020,
          2019,
          2021,
          2022,
          2020,
          2020,
          2019,
          2022,
          2019,
          2020,
          2022,
          2020,
          2020,
          2022,
          2019,
          2020,
          2019,
          2019,
          2019,
          2021,
          2021,
          2022,
          2022,
          2019,
          2019,
          2020,
          2020,
          2021,
          2022,
          2022,
          2022,
          2020,
          2020,
          2022,
          2022,
          2022,
          2020,
          2021,
          2019,
          2021,
          2022,
          2019,
          2020,
          2021,
          2020,
          2022,
          2020,
          2022,
          2021,
          2020,
          2022,
          2022,
          2020,
          2021,
          2021,
          2022,
          2020,
          2022,
          2020,
          2019,
          2022,
          2019,
          2022,
          2022,
          2020,
          2020,
          2020,
          2022,
          2020,
          2019,
          2022,
          2021,
          2021,
          2022,
          2019,
          2021,
          2020,
          2022,
          2022,
          2021,
          2022,
          2019,
          2021,
          2019,
          2021,
          2020,
          2022,
          2019,
          2021,
          2019,
          2021,
          2022,
          2019,
          2019,
          2019,
          2019,
          2021,
          2021,
          2022,
          2021,
          2021,
          2020,
          2022,
          2020,
          2022,
          2021,
          2019,
          2022,
          2022,
          2022,
          2019,
          2021,
          2022,
          2021,
          2020,
          2022,
          2020,
          2020,
          2019,
          2021,
          2022,
          2021,
          2019,
          2019,
          2022,
          2021,
          2020,
          2021,
          2019,
          2021,
          2021,
          2019,
          2019,
          2019,
          2019,
          2021,
          2019,
          2019,
          2019,
          2020,
          2020,
          2021,
          2020,
          2019,
          2022,
          2022,
          2020,
          2022,
          2020,
          2020,
          2020,
          2021,
          2019,
          2019,
          2020,
          2022,
          2022,
          2022,
          2019,
          2021,
          2020,
          2021,
          2019,
          2021,
          2022,
          2019,
          2020,
          2021,
          2020,
          2019,
          2019,
          2022,
          2020,
          2022,
          2022,
          2020,
          2021,
          2019,
          2019,
          2020,
          2019,
          2021,
          2022,
          2021,
          2021,
          2020,
          2021,
          2020,
          2019,
          2021,
          2021,
          2019,
          2020,
          2019,
          2019,
          2019,
          2019,
          2021,
          2021,
          2020,
          2019,
          2019,
          2020,
          2020,
          2019,
          2019,
          2019,
          2022,
          2021,
          2019,
          2019,
          2021,
          2022,
          2020,
          2019,
          2019,
          2022,
          2022,
          2021,
          2019,
          2019,
          2021,
          2019,
          2019,
          2020,
          2022,
          2020,
          2019,
          2021,
          2019,
          2019,
          2021,
          2019,
          2020,
          2021,
          2019,
          2021,
          2020,
          2021,
          2022,
          2021,
          2019,
          2019,
          2022,
          2021,
          2019,
          2022,
          2021,
          2021,
          2022,
          2019,
          2019,
          2019,
          2020,
          2020,
          2019,
          2021,
          2020,
          2022,
          2019,
          2022,
          2019,
          2022,
          2021,
          2020,
          2020,
          2021,
          2021,
          2022,
          2022,
          2019,
          2019,
          2021,
          2020,
          2020,
          2022,
          2019,
          2020,
          2022,
          2020,
          2021,
          2021,
          2022,
          2019,
          2021,
          2020,
          2021,
          2021,
          2020,
          2021,
          2019,
          2019,
          2020,
          2022,
          2022,
          2020,
          2022,
          2022,
          2020,
          2022,
          2021,
          2021,
          2020,
          2021,
          2021,
          2019,
          2019,
          2022,
          2019,
          2020,
          2022,
          2020,
          2021,
          2021,
          2020,
          2022,
          2020,
          2019,
          2019,
          2021,
          2022,
          2022,
          2020,
          2020,
          2020,
          2021,
          2019,
          2022,
          2021,
          2019,
          2019,
          2019,
          2020,
          2019,
          2021,
          2022,
          2019,
          2022,
          2019,
          2022,
          2021,
          2019,
          2019,
          2019,
          2021,
          2019,
          2019,
          2019,
          2019,
          2019
         ],
         "y": [
          12,
          1,
          12,
          4,
          4,
          0,
          9,
          6,
          13,
          14,
          8,
          0,
          6,
          11,
          12,
          11,
          14,
          2,
          8,
          14,
          11,
          3,
          7,
          10,
          4,
          0,
          18,
          8,
          9,
          15,
          11,
          12,
          2,
          5,
          5,
          5,
          7,
          10,
          19,
          7,
          8,
          0,
          6,
          13,
          6,
          7,
          7,
          18,
          2,
          11,
          14,
          12,
          5,
          7,
          3,
          11,
          18,
          11,
          5,
          18,
          14,
          19,
          10,
          16,
          15,
          1,
          15,
          3,
          7,
          4,
          7,
          10,
          16,
          18,
          2,
          18,
          11,
          2,
          10,
          5,
          13,
          9,
          8,
          15,
          2,
          15,
          11,
          19,
          3,
          19,
          19,
          12,
          16,
          18,
          9,
          3,
          15,
          10,
          11,
          17,
          7,
          3,
          9,
          2,
          9,
          19,
          11,
          4,
          10,
          4,
          16,
          0,
          1,
          16,
          6,
          15,
          17,
          3,
          5,
          2,
          10,
          0,
          8,
          13,
          8,
          16,
          4,
          5,
          16,
          13,
          17,
          19,
          15,
          4,
          12,
          9,
          7,
          4,
          0,
          12,
          7,
          1,
          7,
          16,
          8,
          12,
          6,
          14,
          11,
          15,
          9,
          8,
          16,
          12,
          9,
          7,
          14,
          13,
          4,
          13,
          5,
          2,
          15,
          18,
          13,
          7,
          17,
          13,
          16,
          5,
          9,
          5,
          8,
          12,
          18,
          2,
          0,
          9,
          14,
          15,
          9,
          13,
          9,
          18,
          18,
          15,
          12,
          3,
          0,
          8,
          13,
          19,
          13,
          0,
          7,
          10,
          6,
          7,
          6,
          2,
          18,
          14,
          14,
          1,
          14,
          1,
          5,
          10,
          12,
          15,
          19,
          7,
          6,
          4,
          5,
          15,
          0,
          0,
          18,
          14,
          13,
          6,
          7,
          14,
          10,
          4,
          0,
          11,
          16,
          13,
          7,
          9,
          19,
          7,
          8,
          17,
          18,
          15,
          13,
          4,
          18,
          15,
          13,
          2,
          16,
          3,
          6,
          19,
          3,
          15,
          15,
          10,
          0,
          14,
          6,
          4,
          4,
          14,
          12,
          7,
          1,
          0,
          10,
          12,
          18,
          0,
          4,
          7,
          14,
          14,
          15,
          15,
          15,
          14,
          8,
          11,
          7,
          12,
          14,
          17,
          14,
          13,
          15,
          8,
          18,
          2,
          6,
          4,
          4,
          2,
          13,
          15,
          4,
          2,
          16,
          15,
          17,
          11,
          5,
          8,
          14,
          18,
          2,
          8,
          2,
          14,
          7,
          6,
          4,
          8,
          17,
          19,
          13,
          4,
          10,
          19,
          6,
          16,
          4,
          19,
          12,
          13,
          2,
          17,
          18,
          15,
          4,
          14,
          18,
          19,
          19,
          11,
          15,
          13,
          3,
          14,
          2,
          15,
          9,
          5,
          17,
          16,
          11,
          8,
          6,
          4,
          19,
          4,
          13,
          13,
          0,
          3,
          12,
          7,
          0,
          14,
          17,
          18,
          10,
          6,
          7,
          9,
          2,
          16,
          7,
          9,
          14,
          6,
          2,
          14,
          11,
          13,
          6,
          10,
          10,
          12,
          18,
          2,
          6,
          0,
          15,
          18,
          18,
          7,
          8,
          8,
          15,
          6,
          18,
          9,
          5,
          13,
          9,
          18,
          5,
          2,
          4,
          18,
          14,
          4,
          9,
          18,
          13,
          19,
          18,
          3,
          18,
          14,
          4,
          14,
          12,
          2,
          12,
          13,
          15,
          15,
          18,
          12,
          18,
          0,
          5,
          10,
          8,
          11,
          2,
          7,
          19,
          2,
          18,
          16,
          7,
          9,
          5,
          0,
          4,
          8,
          0,
          11,
          0,
          15,
          8,
          19,
          4,
          3,
          12,
          4,
          14,
          10,
          11,
          18,
          14,
          2,
          10,
          3,
          16,
          19,
          5,
          19,
          13,
          4,
          2,
          16,
          10,
          17,
          9,
          8,
          8,
          11,
          19,
          16,
          13,
          15,
          7,
          0,
          15,
          19,
          2,
          8,
          15,
          16,
          19,
          19,
          10,
          5,
          18,
          4,
          6,
          7,
          19,
          14,
          4,
          9,
          1,
          14,
          9,
          6,
          5,
          4,
          13,
          18,
          2,
          14,
          9,
          9,
          7,
          8,
          7,
          6,
          13,
          7,
          7,
          8,
          8,
          9,
          10,
          8,
          12,
          4,
          16,
          18,
          18,
          18,
          18,
          2,
          16,
          14,
          6,
          15,
          5,
          14,
          17,
          4,
          6,
          15,
          13,
          5,
          2,
          10,
          4,
          15,
          6,
          4,
          15,
          18,
          17,
          3,
          1,
          18,
          14,
          18,
          11,
          13,
          6,
          0,
          7,
          14,
          7,
          7,
          5,
          14,
          4,
          16,
          19,
          15,
          14,
          1,
          4,
          7,
          4,
          14,
          9,
          17,
          4,
          0,
          0,
          13,
          2,
          17,
          14,
          8,
          18,
          15,
          16,
          6,
          17,
          6,
          4,
          17,
          10,
          17,
          2,
          11,
          4,
          8,
          15,
          0,
          15,
          2,
          19,
          19,
          18,
          17,
          11,
          18,
          13,
          4,
          16,
          18,
          7,
          5,
          11,
          10,
          9,
          2,
          7,
          12,
          5,
          11,
          5,
          4,
          0,
          12,
          6,
          18,
          2,
          0,
          11,
          5,
          7,
          10,
          10,
          2,
          16,
          13,
          5,
          10,
          0,
          15,
          9,
          8,
          15,
          13,
          19,
          4,
          16,
          5,
          14,
          16,
          15,
          5,
          15,
          4,
          9,
          15
         ]
        }
       ],
       "layout": {
        "template": {
         "data": {
          "bar": [
           {
            "error_x": {
             "color": "#2a3f5f"
            },
            "error_y": {
             "color": "#2a3f5f"
            },
            "marker": {
             "line": {
              "color": "#E5ECF6",
              "width": 0.5
             },
             "pattern": {
              "fillmode": "overlay",
              "size": 10,
              "solidity": 0.2
             }
            },
            "type": "bar"
           }
          ],
          "barpolar": [
           {
            "marker": {
             "line": {
              "color": "#E5ECF6",
              "width": 0.5
             },
             "pattern": {
              "fillmode": "overlay",
              "size": 10,
              "solidity": 0.2
             }
            },
            "type": "barpolar"
           }
          ],
          "carpet": [
           {
            "aaxis": {
             "endlinecolor": "#2a3f5f",
             "gridcolor": "white",
             "linecolor": "white",
             "minorgridcolor": "white",
             "startlinecolor": "#2a3f5f"
            },
            "baxis": {
             "endlinecolor": "#2a3f5f",
             "gridcolor": "white",
             "linecolor": "white",
             "minorgridcolor": "white",
             "startlinecolor": "#2a3f5f"
            },
            "type": "carpet"
           }
          ],
          "choropleth": [
           {
            "colorbar": {
             "outlinewidth": 0,
             "ticks": ""
            },
            "type": "choropleth"
           }
          ],
          "contour": [
           {
            "colorbar": {
             "outlinewidth": 0,
             "ticks": ""
            },
            "colorscale": [
             [
              0,
              "#0d0887"
             ],
             [
              0.1111111111111111,
              "#46039f"
             ],
             [
              0.2222222222222222,
              "#7201a8"
             ],
             [
              0.3333333333333333,
              "#9c179e"
             ],
             [
              0.4444444444444444,
              "#bd3786"
             ],
             [
              0.5555555555555556,
              "#d8576b"
             ],
             [
              0.6666666666666666,
              "#ed7953"
             ],
             [
              0.7777777777777778,
              "#fb9f3a"
             ],
             [
              0.8888888888888888,
              "#fdca26"
             ],
             [
              1,
              "#f0f921"
             ]
            ],
            "type": "contour"
           }
          ],
          "contourcarpet": [
           {
            "colorbar": {
             "outlinewidth": 0,
             "ticks": ""
            },
            "type": "contourcarpet"
           }
          ],
          "heatmap": [
           {
            "colorbar": {
             "outlinewidth": 0,
             "ticks": ""
            },
            "colorscale": [
             [
              0,
              "#0d0887"
             ],
             [
              0.1111111111111111,
              "#46039f"
             ],
             [
              0.2222222222222222,
              "#7201a8"
             ],
             [
              0.3333333333333333,
              "#9c179e"
             ],
             [
              0.4444444444444444,
              "#bd3786"
             ],
             [
              0.5555555555555556,
              "#d8576b"
             ],
             [
              0.6666666666666666,
              "#ed7953"
             ],
             [
              0.7777777777777778,
              "#fb9f3a"
             ],
             [
              0.8888888888888888,
              "#fdca26"
             ],
             [
              1,
              "#f0f921"
             ]
            ],
            "type": "heatmap"
           }
          ],
          "heatmapgl": [
           {
            "colorbar": {
             "outlinewidth": 0,
             "ticks": ""
            },
            "colorscale": [
             [
              0,
              "#0d0887"
             ],
             [
              0.1111111111111111,
              "#46039f"
             ],
             [
              0.2222222222222222,
              "#7201a8"
             ],
             [
              0.3333333333333333,
              "#9c179e"
             ],
             [
              0.4444444444444444,
              "#bd3786"
             ],
             [
              0.5555555555555556,
              "#d8576b"
             ],
             [
              0.6666666666666666,
              "#ed7953"
             ],
             [
              0.7777777777777778,
              "#fb9f3a"
             ],
             [
              0.8888888888888888,
              "#fdca26"
             ],
             [
              1,
              "#f0f921"
             ]
            ],
            "type": "heatmapgl"
           }
          ],
          "histogram": [
           {
            "marker": {
             "pattern": {
              "fillmode": "overlay",
              "size": 10,
              "solidity": 0.2
             }
            },
            "type": "histogram"
           }
          ],
          "histogram2d": [
           {
            "colorbar": {
             "outlinewidth": 0,
             "ticks": ""
            },
            "colorscale": [
             [
              0,
              "#0d0887"
             ],
             [
              0.1111111111111111,
              "#46039f"
             ],
             [
              0.2222222222222222,
              "#7201a8"
             ],
             [
              0.3333333333333333,
              "#9c179e"
             ],
             [
              0.4444444444444444,
              "#bd3786"
             ],
             [
              0.5555555555555556,
              "#d8576b"
             ],
             [
              0.6666666666666666,
              "#ed7953"
             ],
             [
              0.7777777777777778,
              "#fb9f3a"
             ],
             [
              0.8888888888888888,
              "#fdca26"
             ],
             [
              1,
              "#f0f921"
             ]
            ],
            "type": "histogram2d"
           }
          ],
          "histogram2dcontour": [
           {
            "colorbar": {
             "outlinewidth": 0,
             "ticks": ""
            },
            "colorscale": [
             [
              0,
              "#0d0887"
             ],
             [
              0.1111111111111111,
              "#46039f"
             ],
             [
              0.2222222222222222,
              "#7201a8"
             ],
             [
              0.3333333333333333,
              "#9c179e"
             ],
             [
              0.4444444444444444,
              "#bd3786"
             ],
             [
              0.5555555555555556,
              "#d8576b"
             ],
             [
              0.6666666666666666,
              "#ed7953"
             ],
             [
              0.7777777777777778,
              "#fb9f3a"
             ],
             [
              0.8888888888888888,
              "#fdca26"
             ],
             [
              1,
              "#f0f921"
             ]
            ],
            "type": "histogram2dcontour"
           }
          ],
          "mesh3d": [
           {
            "colorbar": {
             "outlinewidth": 0,
             "ticks": ""
            },
            "type": "mesh3d"
           }
          ],
          "parcoords": [
           {
            "line": {
             "colorbar": {
              "outlinewidth": 0,
              "ticks": ""
             }
            },
            "type": "parcoords"
           }
          ],
          "pie": [
           {
            "automargin": true,
            "type": "pie"
           }
          ],
          "scatter": [
           {
            "fillpattern": {
             "fillmode": "overlay",
             "size": 10,
             "solidity": 0.2
            },
            "type": "scatter"
           }
          ],
          "scatter3d": [
           {
            "line": {
             "colorbar": {
              "outlinewidth": 0,
              "ticks": ""
             }
            },
            "marker": {
             "colorbar": {
              "outlinewidth": 0,
              "ticks": ""
             }
            },
            "type": "scatter3d"
           }
          ],
          "scattercarpet": [
           {
            "marker": {
             "colorbar": {
              "outlinewidth": 0,
              "ticks": ""
             }
            },
            "type": "scattercarpet"
           }
          ],
          "scattergeo": [
           {
            "marker": {
             "colorbar": {
              "outlinewidth": 0,
              "ticks": ""
             }
            },
            "type": "scattergeo"
           }
          ],
          "scattergl": [
           {
            "marker": {
             "colorbar": {
              "outlinewidth": 0,
              "ticks": ""
             }
            },
            "type": "scattergl"
           }
          ],
          "scattermapbox": [
           {
            "marker": {
             "colorbar": {
              "outlinewidth": 0,
              "ticks": ""
             }
            },
            "type": "scattermapbox"
           }
          ],
          "scatterpolar": [
           {
            "marker": {
             "colorbar": {
              "outlinewidth": 0,
              "ticks": ""
             }
            },
            "type": "scatterpolar"
           }
          ],
          "scatterpolargl": [
           {
            "marker": {
             "colorbar": {
              "outlinewidth": 0,
              "ticks": ""
             }
            },
            "type": "scatterpolargl"
           }
          ],
          "scatterternary": [
           {
            "marker": {
             "colorbar": {
              "outlinewidth": 0,
              "ticks": ""
             }
            },
            "type": "scatterternary"
           }
          ],
          "surface": [
           {
            "colorbar": {
             "outlinewidth": 0,
             "ticks": ""
            },
            "colorscale": [
             [
              0,
              "#0d0887"
             ],
             [
              0.1111111111111111,
              "#46039f"
             ],
             [
              0.2222222222222222,
              "#7201a8"
             ],
             [
              0.3333333333333333,
              "#9c179e"
             ],
             [
              0.4444444444444444,
              "#bd3786"
             ],
             [
              0.5555555555555556,
              "#d8576b"
             ],
             [
              0.6666666666666666,
              "#ed7953"
             ],
             [
              0.7777777777777778,
              "#fb9f3a"
             ],
             [
              0.8888888888888888,
              "#fdca26"
             ],
             [
              1,
              "#f0f921"
             ]
            ],
            "type": "surface"
           }
          ],
          "table": [
           {
            "cells": {
             "fill": {
              "color": "#EBF0F8"
             },
             "line": {
              "color": "white"
             }
            },
            "header": {
             "fill": {
              "color": "#C8D4E3"
             },
             "line": {
              "color": "white"
             }
            },
            "type": "table"
           }
          ]
         },
         "layout": {
          "annotationdefaults": {
           "arrowcolor": "#2a3f5f",
           "arrowhead": 0,
           "arrowwidth": 1
          },
          "autotypenumbers": "strict",
          "coloraxis": {
           "colorbar": {
            "outlinewidth": 0,
            "ticks": ""
           }
          },
          "colorscale": {
           "diverging": [
            [
             0,
             "#8e0152"
            ],
            [
             0.1,
             "#c51b7d"
            ],
            [
             0.2,
             "#de77ae"
            ],
            [
             0.3,
             "#f1b6da"
            ],
            [
             0.4,
             "#fde0ef"
            ],
            [
             0.5,
             "#f7f7f7"
            ],
            [
             0.6,
             "#e6f5d0"
            ],
            [
             0.7,
             "#b8e186"
            ],
            [
             0.8,
             "#7fbc41"
            ],
            [
             0.9,
             "#4d9221"
            ],
            [
             1,
             "#276419"
            ]
           ],
           "sequential": [
            [
             0,
             "#0d0887"
            ],
            [
             0.1111111111111111,
             "#46039f"
            ],
            [
             0.2222222222222222,
             "#7201a8"
            ],
            [
             0.3333333333333333,
             "#9c179e"
            ],
            [
             0.4444444444444444,
             "#bd3786"
            ],
            [
             0.5555555555555556,
             "#d8576b"
            ],
            [
             0.6666666666666666,
             "#ed7953"
            ],
            [
             0.7777777777777778,
             "#fb9f3a"
            ],
            [
             0.8888888888888888,
             "#fdca26"
            ],
            [
             1,
             "#f0f921"
            ]
           ],
           "sequentialminus": [
            [
             0,
             "#0d0887"
            ],
            [
             0.1111111111111111,
             "#46039f"
            ],
            [
             0.2222222222222222,
             "#7201a8"
            ],
            [
             0.3333333333333333,
             "#9c179e"
            ],
            [
             0.4444444444444444,
             "#bd3786"
            ],
            [
             0.5555555555555556,
             "#d8576b"
            ],
            [
             0.6666666666666666,
             "#ed7953"
            ],
            [
             0.7777777777777778,
             "#fb9f3a"
            ],
            [
             0.8888888888888888,
             "#fdca26"
            ],
            [
             1,
             "#f0f921"
            ]
           ]
          },
          "colorway": [
           "#636efa",
           "#EF553B",
           "#00cc96",
           "#ab63fa",
           "#FFA15A",
           "#19d3f3",
           "#FF6692",
           "#B6E880",
           "#FF97FF",
           "#FECB52"
          ],
          "font": {
           "color": "#2a3f5f"
          },
          "geo": {
           "bgcolor": "white",
           "lakecolor": "white",
           "landcolor": "#E5ECF6",
           "showlakes": true,
           "showland": true,
           "subunitcolor": "white"
          },
          "hoverlabel": {
           "align": "left"
          },
          "hovermode": "closest",
          "mapbox": {
           "style": "light"
          },
          "paper_bgcolor": "white",
          "plot_bgcolor": "#E5ECF6",
          "polar": {
           "angularaxis": {
            "gridcolor": "white",
            "linecolor": "white",
            "ticks": ""
           },
           "bgcolor": "#E5ECF6",
           "radialaxis": {
            "gridcolor": "white",
            "linecolor": "white",
            "ticks": ""
           }
          },
          "scene": {
           "xaxis": {
            "backgroundcolor": "#E5ECF6",
            "gridcolor": "white",
            "gridwidth": 2,
            "linecolor": "white",
            "showbackground": true,
            "ticks": "",
            "zerolinecolor": "white"
           },
           "yaxis": {
            "backgroundcolor": "#E5ECF6",
            "gridcolor": "white",
            "gridwidth": 2,
            "linecolor": "white",
            "showbackground": true,
            "ticks": "",
            "zerolinecolor": "white"
           },
           "zaxis": {
            "backgroundcolor": "#E5ECF6",
            "gridcolor": "white",
            "gridwidth": 2,
            "linecolor": "white",
            "showbackground": true,
            "ticks": "",
            "zerolinecolor": "white"
           }
          },
          "shapedefaults": {
           "line": {
            "color": "#2a3f5f"
           }
          },
          "ternary": {
           "aaxis": {
            "gridcolor": "white",
            "linecolor": "white",
            "ticks": ""
           },
           "baxis": {
            "gridcolor": "white",
            "linecolor": "white",
            "ticks": ""
           },
           "bgcolor": "#E5ECF6",
           "caxis": {
            "gridcolor": "white",
            "linecolor": "white",
            "ticks": ""
           }
          },
          "title": {
           "x": 0.05
          },
          "xaxis": {
           "automargin": true,
           "gridcolor": "white",
           "linecolor": "white",
           "ticks": "",
           "title": {
            "standoff": 15
           },
           "zerolinecolor": "white",
           "zerolinewidth": 2
          },
          "yaxis": {
           "automargin": true,
           "gridcolor": "white",
           "linecolor": "white",
           "ticks": "",
           "title": {
            "standoff": 15
           },
           "zerolinecolor": "white",
           "zerolinewidth": 2
          }
         }
        },
        "title": {
         "text": "Performance Metrics of Player C Over Time"
        },
        "xaxis": {
         "title": {
          "text": "Season"
         }
        },
        "yaxis": {
         "title": {
          "text": "Count"
         }
        }
       }
      }
     },
     "metadata": {},
     "output_type": "display_data"
    }
   ],
   "source": [
    "top_scorer = team_data.loc[team_data['Goals'].idxmax()]\n",
    "print(f\"Top goal scorer in {team_with_highest_goals}: {top_scorer['Player']}\")\n",
    "top_scorer_performance = team_data[team_data['Player'] == top_scorer['Player']]\n",
    "fig4 = go.Figure()\n",
    "fig4.add_trace(go.Scatter(x=top_scorer_performance['Season'], y=top_scorer_performance['Goals'], mode='lines+markers', name='Goals'))\n",
    "fig4.add_trace(go.Scatter(x=top_scorer_performance['Season'], y=top_scorer_performance['Assists'], mode='lines+markers', name='Assists'))\n",
    "fig4.update_layout(title=f'Performance Metrics of {top_scorer[\"Player\"]} Over Time', xaxis_title='Season', yaxis_title='Count')\n",
    "fig4.show()"
   ]
  },
  {
   "cell_type": "markdown",
   "metadata": {},
   "source": [
    "# Problem Statement 8 : Reporting and Visualization"
   ]
  },
  {
   "cell_type": "code",
   "execution_count": null,
   "metadata": {},
   "outputs": [],
   "source": [
    "\"\"\"Problem Statement 8:   Develop interactive dashboards and visualizations using tools like Power BI, Tableau, or custom web applications using Dash or Streamlit. Create reports that provide insights into player performance, team strategies, and potential areas for improvement. Incorporate advanced analytics like clustering and predictive modeling to forecast future performance.\n",
    "   -   Additional Complexity:   Integrate real-time data feeds to update the dashboards dynamically.\n",
    "\"\"\""
   ]
  },
  {
   "cell_type": "code",
   "execution_count": 11,
   "metadata": {},
   "outputs": [],
   "source": [
    "import pygwalker as pg"
   ]
  },
  {
   "cell_type": "code",
   "execution_count": 12,
   "metadata": {},
   "outputs": [
    {
     "data": {
      "text/plain": [
       "'0.4.8.9'"
      ]
     },
     "execution_count": 12,
     "metadata": {},
     "output_type": "execute_result"
    }
   ],
   "source": [
    "pg.__version__"
   ]
  },
  {
   "cell_type": "code",
   "execution_count": 18,
   "metadata": {},
   "outputs": [
    {
     "name": "stdout",
     "output_type": "stream",
     "text": [
      "   PU_ID    Team  Season  Goals  Assists  YellowCards  RedCards  \\\n",
      "0      0  Team C    2022   11.0      2.0            4         3   \n",
      "1      1  Team C    2019    2.0     16.0            8         2   \n",
      "2      3  Team C    2020   13.0      1.0            3         3   \n",
      "3      3  Team C    2020   13.0      1.0            3         3   \n",
      "4      4  Team C    2022    6.0      8.0            1         2   \n",
      "5      9  Team A    2020   26.0      3.0            4         2   \n",
      "6     11  Team A    2021   27.0     12.0            1         0   \n",
      "7     13  Team A    2021    0.0     12.0            9         1   \n",
      "8     14  Team C    2019   22.0      4.0            0         4   \n",
      "9     17  Team C    2021   23.0     13.0            0         3   \n",
      "\n",
      "   PassCompletionRate  DistanceCovered  Sprints  ShotsOnTarget  TacklesWon  \\\n",
      "0               81.64            10.88       42              4          22   \n",
      "1               76.29             5.65       17              6          27   \n",
      "2               99.74             8.52       58              5           3   \n",
      "3               99.74             8.52       58              5           3   \n",
      "4               51.43             7.24       61              3          12   \n",
      "5               82.43            14.21       80             12          19   \n",
      "6               79.74            14.53       41             12          12   \n",
      "7               78.81            10.13       45              4          15   \n",
      "8               58.95            12.88        3              6          10   \n",
      "9               97.37             5.25       10              6          14   \n",
      "\n",
      "   CleanSheets   Age  Height  Weight  \n",
      "0            6  31.0  164.24   64.90  \n",
      "1            6  22.0  164.49   55.64  \n",
      "2            4  29.0  184.57   50.95  \n",
      "3            4  29.0  184.57   97.91  \n",
      "4            8  27.0  192.17   78.83  \n",
      "5            2  23.0  179.87   64.68  \n",
      "6            9  20.0  180.05   93.73  \n",
      "7            1  20.0  173.94   65.33  \n",
      "8            7  38.0  167.17  109.70  \n",
      "9            5  34.0  179.81   92.28  \n"
     ]
    }
   ],
   "source": [
    "player_details = pd.read_csv('player_details.csv')\n",
    "player_performance = pd.read_csv('player_performance.csv')\n",
    "health = pd.read_csv('health.csv')\n",
    "training = pd.read_csv('training.csv')\n",
    "\n",
    "merged_data = pd.merge(player_performance, player_details, on='PU_ID')\n",
    "print(merged_data.head(10))"
   ]
  },
  {
   "cell_type": "code",
   "execution_count": 19,
   "metadata": {},
   "outputs": [
    {
     "data": {
      "application/vnd.jupyter.widget-view+json": {
       "model_id": "7297fe5599dc492e965b3ba3efa775c0",
       "version_major": 2,
       "version_minor": 0
      },
      "text/plain": [
       "Box(children=(HTML(value='<div id=\"ifr-pyg-00061a8217a79ef65ViIGSk0Esbq4anZ\" style=\"height: auto\">\\n    <head>…"
      ]
     },
     "metadata": {},
     "output_type": "display_data"
    },
    {
     "data": {
      "text/html": [],
      "text/plain": [
       "<IPython.core.display.HTML object>"
      ]
     },
     "metadata": {},
     "output_type": "display_data"
    },
    {
     "data": {
      "text/plain": [
       "<pygwalker.api.pygwalker.PygWalker at 0x2767ce87ac0>"
      ]
     },
     "execution_count": 19,
     "metadata": {},
     "output_type": "execute_result"
    }
   ],
   "source": [
    "pg.walk(merged_data)"
   ]
  },
  {
   "cell_type": "code",
   "execution_count": null,
   "metadata": {},
   "outputs": [],
   "source": []
  }
 ],
 "metadata": {
  "kernelspec": {
   "display_name": "Python 3",
   "language": "python",
   "name": "python3"
  },
  "language_info": {
   "codemirror_mode": {
    "name": "ipython",
    "version": 3
   },
   "file_extension": ".py",
   "mimetype": "text/x-python",
   "name": "python",
   "nbconvert_exporter": "python",
   "pygments_lexer": "ipython3",
   "version": "3.10.6"
  }
 },
 "nbformat": 4,
 "nbformat_minor": 2
}
